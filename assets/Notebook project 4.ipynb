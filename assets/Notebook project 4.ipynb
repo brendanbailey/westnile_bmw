{
 "cells": [
  {
   "cell_type": "code",
   "execution_count": 1,
   "metadata": {
    "collapsed": true
   },
   "outputs": [],
   "source": [
    "import pandas as pd"
   ]
  },
  {
   "cell_type": "code",
   "execution_count": 2,
   "metadata": {
    "collapsed": true
   },
   "outputs": [],
   "source": [
    "spray = pd.read_csv('./spray.csv')"
   ]
  },
  {
   "cell_type": "code",
   "execution_count": 3,
   "metadata": {
    "collapsed": false
   },
   "outputs": [
    {
     "data": {
      "text/plain": [
       "Date           0\n",
       "Time         584\n",
       "Latitude       0\n",
       "Longitude      0\n",
       "dtype: int64"
      ]
     },
     "execution_count": 3,
     "metadata": {},
     "output_type": "execute_result"
    }
   ],
   "source": [
    "spray.isnull().sum()"
   ]
  },
  {
   "cell_type": "code",
   "execution_count": 4,
   "metadata": {
    "collapsed": false
   },
   "outputs": [
    {
     "data": {
      "text/html": [
       "<div>\n",
       "<table border=\"1\" class=\"dataframe\">\n",
       "  <thead>\n",
       "    <tr style=\"text-align: right;\">\n",
       "      <th></th>\n",
       "      <th>Date</th>\n",
       "      <th>Time</th>\n",
       "      <th>Latitude</th>\n",
       "      <th>Longitude</th>\n",
       "    </tr>\n",
       "  </thead>\n",
       "  <tbody>\n",
       "    <tr>\n",
       "      <th>0</th>\n",
       "      <td>2011-08-29</td>\n",
       "      <td>6:56:58 PM</td>\n",
       "      <td>42.391623</td>\n",
       "      <td>-88.089163</td>\n",
       "    </tr>\n",
       "    <tr>\n",
       "      <th>1</th>\n",
       "      <td>2011-08-29</td>\n",
       "      <td>6:57:08 PM</td>\n",
       "      <td>42.391348</td>\n",
       "      <td>-88.089163</td>\n",
       "    </tr>\n",
       "    <tr>\n",
       "      <th>2</th>\n",
       "      <td>2011-08-29</td>\n",
       "      <td>6:57:18 PM</td>\n",
       "      <td>42.391022</td>\n",
       "      <td>-88.089157</td>\n",
       "    </tr>\n",
       "    <tr>\n",
       "      <th>3</th>\n",
       "      <td>2011-08-29</td>\n",
       "      <td>6:57:28 PM</td>\n",
       "      <td>42.390637</td>\n",
       "      <td>-88.089158</td>\n",
       "    </tr>\n",
       "    <tr>\n",
       "      <th>4</th>\n",
       "      <td>2011-08-29</td>\n",
       "      <td>6:57:38 PM</td>\n",
       "      <td>42.390410</td>\n",
       "      <td>-88.088858</td>\n",
       "    </tr>\n",
       "  </tbody>\n",
       "</table>\n",
       "</div>"
      ],
      "text/plain": [
       "         Date        Time   Latitude  Longitude\n",
       "0  2011-08-29  6:56:58 PM  42.391623 -88.089163\n",
       "1  2011-08-29  6:57:08 PM  42.391348 -88.089163\n",
       "2  2011-08-29  6:57:18 PM  42.391022 -88.089157\n",
       "3  2011-08-29  6:57:28 PM  42.390637 -88.089158\n",
       "4  2011-08-29  6:57:38 PM  42.390410 -88.088858"
      ]
     },
     "execution_count": 4,
     "metadata": {},
     "output_type": "execute_result"
    }
   ],
   "source": [
    "spray.head()"
   ]
  },
  {
   "cell_type": "code",
   "execution_count": 5,
   "metadata": {
    "collapsed": false
   },
   "outputs": [
    {
     "data": {
      "text/plain": [
       "7:44:32 PM     541\n",
       "8:59:06 PM       5\n",
       "8:55:36 PM       5\n",
       "8:57:56 PM       5\n",
       "9:35:47 PM       5\n",
       "9:37:27 PM       5\n",
       "8:57:46 PM       5\n",
       "8:58:26 PM       5\n",
       "9:40:27 PM       5\n",
       "9:31:27 PM       5\n",
       "8:55:46 PM       5\n",
       "9:05:56 PM       5\n",
       "9:38:27 PM       5\n",
       "8:55:26 PM       5\n",
       "8:58:56 PM       5\n",
       "9:30:17 PM       4\n",
       "8:05:11 PM       4\n",
       "8:51:36 PM       4\n",
       "8:31:11 PM       4\n",
       "10:01:35 PM      4\n",
       "9:36:57 PM       4\n",
       "8:38:46 PM       4\n",
       "10:02:05 PM      4\n",
       "9:25:56 PM       4\n",
       "8:53:45 PM       4\n",
       "8:38:05 PM       4\n",
       "8:38:06 PM       4\n",
       "8:26:26 PM       4\n",
       "9:07:25 PM       4\n",
       "9:07:36 PM       4\n",
       "              ... \n",
       "9:40:46 PM       1\n",
       "11:35:08 PM      1\n",
       "9:57:51 PM       1\n",
       "10:19:13 PM      1\n",
       "9:40:06 PM       1\n",
       "9:05:12 PM       1\n",
       "8:44:51 PM       1\n",
       "8:29:53 PM       1\n",
       "9:43:14 PM       1\n",
       "11:49:31 PM      1\n",
       "10:58:06 PM      1\n",
       "11:15:01 PM      1\n",
       "8:49:48 PM       1\n",
       "8:52:59 PM       1\n",
       "11:56:31 PM      1\n",
       "8:08:45 PM       1\n",
       "7:58:01 PM       1\n",
       "9:32:00 PM       1\n",
       "9:03:02 PM       1\n",
       "7:48:35 PM       1\n",
       "8:34:38 PM       1\n",
       "9:26:59 PM       1\n",
       "8:07:43 PM       1\n",
       "8:39:21 PM       1\n",
       "9:08:12 PM       1\n",
       "10:41:18 PM      1\n",
       "11:04:11 PM      1\n",
       "9:04:02 PM       1\n",
       "9:53:36 PM       1\n",
       "10:11:14 PM      1\n",
       "Name: Time, dtype: int64"
      ]
     },
     "execution_count": 5,
     "metadata": {},
     "output_type": "execute_result"
    }
   ],
   "source": [
    "spray.Time.value_counts()"
   ]
  },
  {
   "cell_type": "code",
   "execution_count": 6,
   "metadata": {
    "collapsed": true
   },
   "outputs": [],
   "source": [
    "weather = pd.read_csv('./weather.csv')"
   ]
  },
  {
   "cell_type": "code",
   "execution_count": 7,
   "metadata": {
    "collapsed": false
   },
   "outputs": [],
   "source": [
    "sample_submission= pd.read_csv('./sampleSubmission.csv.zip')"
   ]
  },
  {
   "cell_type": "code",
   "execution_count": 8,
   "metadata": {
    "collapsed": false
   },
   "outputs": [
    {
     "data": {
      "text/plain": [
       "Id            0\n",
       "WnvPresent    0\n",
       "dtype: int64"
      ]
     },
     "execution_count": 8,
     "metadata": {},
     "output_type": "execute_result"
    }
   ],
   "source": [
    "sample_submission.isnull().sum()"
   ]
  },
  {
   "cell_type": "code",
   "execution_count": 9,
   "metadata": {
    "collapsed": false
   },
   "outputs": [],
   "source": [
    "import seaborn as sns\n",
    "import matplotlib as plt\n",
    "% matplotlib inline"
   ]
  },
  {
   "cell_type": "code",
   "execution_count": 10,
   "metadata": {
    "collapsed": true
   },
   "outputs": [],
   "source": [
    "# sns.distplot(sample_submission['WnvPresent'], color ='red')\n",
    "# plt.show()"
   ]
  },
  {
   "cell_type": "code",
   "execution_count": 11,
   "metadata": {
    "collapsed": true
   },
   "outputs": [],
   "source": [
    "train= pd.read_csv('./train.csv')"
   ]
  },
  {
   "cell_type": "code",
   "execution_count": 12,
   "metadata": {
    "collapsed": false
   },
   "outputs": [],
   "source": [
    "test = pd.read_csv('./test.csv.zip')"
   ]
  },
  {
   "cell_type": "code",
   "execution_count": 13,
   "metadata": {
    "collapsed": false
   },
   "outputs": [
    {
     "data": {
      "text/plain": [
       "Id                        0\n",
       "Date                      0\n",
       "Address                   0\n",
       "Species                   0\n",
       "Block                     0\n",
       "Street                    0\n",
       "Trap                      0\n",
       "AddressNumberAndStreet    0\n",
       "Latitude                  0\n",
       "Longitude                 0\n",
       "AddressAccuracy           0\n",
       "dtype: int64"
      ]
     },
     "execution_count": 13,
     "metadata": {},
     "output_type": "execute_result"
    }
   ],
   "source": [
    "test.isnull().sum()"
   ]
  },
  {
   "cell_type": "code",
   "execution_count": 14,
   "metadata": {
    "collapsed": false
   },
   "outputs": [
    {
     "data": {
      "text/plain": [
       "0    9955\n",
       "1     551\n",
       "Name: WnvPresent, dtype: int64"
      ]
     },
     "execution_count": 14,
     "metadata": {},
     "output_type": "execute_result"
    }
   ],
   "source": [
    "train.WnvPresent.value_counts()"
   ]
  },
  {
   "cell_type": "code",
   "execution_count": 15,
   "metadata": {
    "collapsed": false
   },
   "outputs": [],
   "source": [
    "#pbb = pd.concat([train, weather], names= 'Date')"
   ]
  },
  {
   "cell_type": "code",
   "execution_count": 16,
   "metadata": {
    "collapsed": true
   },
   "outputs": [],
   "source": [
    "#pbb.head()"
   ]
  },
  {
   "cell_type": "code",
   "execution_count": 17,
   "metadata": {
    "collapsed": false
   },
   "outputs": [
    {
     "data": {
      "text/html": [
       "<div>\n",
       "<table border=\"1\" class=\"dataframe\">\n",
       "  <thead>\n",
       "    <tr style=\"text-align: right;\">\n",
       "      <th></th>\n",
       "      <th>Date</th>\n",
       "      <th>Time</th>\n",
       "      <th>Latitude</th>\n",
       "      <th>Longitude</th>\n",
       "    </tr>\n",
       "  </thead>\n",
       "  <tbody>\n",
       "    <tr>\n",
       "      <th>0</th>\n",
       "      <td>2011-08-29</td>\n",
       "      <td>6:56:58 PM</td>\n",
       "      <td>42.391623</td>\n",
       "      <td>-88.089163</td>\n",
       "    </tr>\n",
       "  </tbody>\n",
       "</table>\n",
       "</div>"
      ],
      "text/plain": [
       "         Date        Time   Latitude  Longitude\n",
       "0  2011-08-29  6:56:58 PM  42.391623 -88.089163"
      ]
     },
     "execution_count": 17,
     "metadata": {},
     "output_type": "execute_result"
    }
   ],
   "source": [
    "spray.head(1)"
   ]
  },
  {
   "cell_type": "code",
   "execution_count": 18,
   "metadata": {
    "collapsed": false
   },
   "outputs": [
    {
     "data": {
      "text/html": [
       "<div>\n",
       "<table border=\"1\" class=\"dataframe\">\n",
       "  <thead>\n",
       "    <tr style=\"text-align: right;\">\n",
       "      <th></th>\n",
       "      <th>Date</th>\n",
       "      <th>Address</th>\n",
       "      <th>Species</th>\n",
       "      <th>Block</th>\n",
       "      <th>Street</th>\n",
       "      <th>Trap</th>\n",
       "      <th>AddressNumberAndStreet</th>\n",
       "      <th>Latitude</th>\n",
       "      <th>Longitude</th>\n",
       "      <th>AddressAccuracy</th>\n",
       "      <th>NumMosquitos</th>\n",
       "      <th>WnvPresent</th>\n",
       "    </tr>\n",
       "  </thead>\n",
       "  <tbody>\n",
       "    <tr>\n",
       "      <th>0</th>\n",
       "      <td>2007-05-29</td>\n",
       "      <td>4100 North Oak Park Avenue, Chicago, IL 60634,...</td>\n",
       "      <td>CULEX PIPIENS/RESTUANS</td>\n",
       "      <td>41</td>\n",
       "      <td>N OAK PARK AVE</td>\n",
       "      <td>T002</td>\n",
       "      <td>4100  N OAK PARK AVE, Chicago, IL</td>\n",
       "      <td>41.95469</td>\n",
       "      <td>-87.800991</td>\n",
       "      <td>9</td>\n",
       "      <td>1</td>\n",
       "      <td>0</td>\n",
       "    </tr>\n",
       "  </tbody>\n",
       "</table>\n",
       "</div>"
      ],
      "text/plain": [
       "         Date                                            Address  \\\n",
       "0  2007-05-29  4100 North Oak Park Avenue, Chicago, IL 60634,...   \n",
       "\n",
       "                  Species  Block           Street  Trap  \\\n",
       "0  CULEX PIPIENS/RESTUANS     41   N OAK PARK AVE  T002   \n",
       "\n",
       "              AddressNumberAndStreet  Latitude  Longitude  AddressAccuracy  \\\n",
       "0  4100  N OAK PARK AVE, Chicago, IL  41.95469 -87.800991                9   \n",
       "\n",
       "   NumMosquitos  WnvPresent  \n",
       "0             1           0  "
      ]
     },
     "execution_count": 18,
     "metadata": {},
     "output_type": "execute_result"
    }
   ],
   "source": [
    "train.head(1)"
   ]
  },
  {
   "cell_type": "code",
   "execution_count": 19,
   "metadata": {
    "collapsed": false
   },
   "outputs": [
    {
     "data": {
      "text/html": [
       "<div>\n",
       "<table border=\"1\" class=\"dataframe\">\n",
       "  <thead>\n",
       "    <tr style=\"text-align: right;\">\n",
       "      <th></th>\n",
       "      <th>Date</th>\n",
       "      <th>Time</th>\n",
       "      <th>Latitude</th>\n",
       "      <th>Longitude</th>\n",
       "    </tr>\n",
       "  </thead>\n",
       "  <tbody>\n",
       "    <tr>\n",
       "      <th>0</th>\n",
       "      <td>2011-08-29</td>\n",
       "      <td>6:56:58 PM</td>\n",
       "      <td>42.391623</td>\n",
       "      <td>-88.089163</td>\n",
       "    </tr>\n",
       "  </tbody>\n",
       "</table>\n",
       "</div>"
      ],
      "text/plain": [
       "         Date        Time   Latitude  Longitude\n",
       "0  2011-08-29  6:56:58 PM  42.391623 -88.089163"
      ]
     },
     "execution_count": 19,
     "metadata": {},
     "output_type": "execute_result"
    }
   ],
   "source": [
    "spray.head(1)"
   ]
  },
  {
   "cell_type": "code",
   "execution_count": 20,
   "metadata": {
    "collapsed": false
   },
   "outputs": [
    {
     "data": {
      "text/html": [
       "<div>\n",
       "<table border=\"1\" class=\"dataframe\">\n",
       "  <thead>\n",
       "    <tr style=\"text-align: right;\">\n",
       "      <th></th>\n",
       "      <th>Date</th>\n",
       "      <th>Time</th>\n",
       "      <th>Latitude</th>\n",
       "      <th>Longitude</th>\n",
       "    </tr>\n",
       "  </thead>\n",
       "  <tbody>\n",
       "    <tr>\n",
       "      <th>14834</th>\n",
       "      <td>2013-09-05</td>\n",
       "      <td>8:35:41 PM</td>\n",
       "      <td>42.004805</td>\n",
       "      <td>-87.81746</td>\n",
       "    </tr>\n",
       "  </tbody>\n",
       "</table>\n",
       "</div>"
      ],
      "text/plain": [
       "             Date        Time   Latitude  Longitude\n",
       "14834  2013-09-05  8:35:41 PM  42.004805  -87.81746"
      ]
     },
     "execution_count": 20,
     "metadata": {},
     "output_type": "execute_result"
    }
   ],
   "source": [
    "spray.tail(1)"
   ]
  },
  {
   "cell_type": "code",
   "execution_count": 21,
   "metadata": {
    "collapsed": true
   },
   "outputs": [],
   "source": [
    "# from geopy.distance import vincenty\n",
    "# import geopy\n",
    "# from geopy.distance import VincentyDistance"
   ]
  },
  {
   "cell_type": "code",
   "execution_count": 22,
   "metadata": {
    "collapsed": false
   },
   "outputs": [],
   "source": [
    "# lat_1 = spray['Latitude'][0]\n",
    "# long_1 = spray['Longitude'][0]\n",
    "# origin = geopy.Point(lat_1, long_1)"
   ]
  },
  {
   "cell_type": "code",
   "execution_count": 23,
   "metadata": {
    "collapsed": false
   },
   "outputs": [],
   "source": [
    "# destination = VincentyDistance(kilometers=0.80468).miles"
   ]
  },
  {
   "cell_type": "code",
   "execution_count": 24,
   "metadata": {
    "collapsed": true
   },
   "outputs": [],
   "source": [
    "#import math"
   ]
  },
  {
   "cell_type": "code",
   "execution_count": 25,
   "metadata": {
    "collapsed": true
   },
   "outputs": [],
   "source": [
    "# class BoundingBox(object): # found on stack overflow  http://stackoverflow.com/questions/1648917/given-a-latitude-and-longitude-and-distance-i-want-to-find-a-bounding-box\n",
    "#     def __init__(self, *args, **kwargs):\n",
    "#         self.lat_min = None\n",
    "#         self.lon_min = None\n",
    "#         self.lat_max = None\n",
    "#         self.lon_max = None"
   ]
  },
  {
   "cell_type": "code",
   "execution_count": 26,
   "metadata": {
    "collapsed": false
   },
   "outputs": [],
   "source": [
    "#  def get_bounding_box(latitude_in_degrees, longitude_in_degrees, half_side_in_miles):\n",
    "#     assert half_side_in_miles > 0\n",
    "#     assert latitude_in_degrees >= -90.0 and latitude_in_degrees  <= 90.0\n",
    "#     assert longitude_in_degrees >= -180.0 and longitude_in_degrees <= 180.0\n",
    "\n",
    "#     half_side_in_km = half_side_in_miles * 1.609344\n",
    "#     lat = math.radians(latitude_in_degrees)\n",
    "#     lon = math.radians(longitude_in_degrees)\n",
    "\n",
    "#     radius  = 6371\n",
    "#     # Radius of the parallel at given latitude\n",
    "#     parallel_radius = radius*math.cos(lat)\n",
    "\n",
    "#     lat_min = lat - half_side_in_km/radius\n",
    "#     lat_max = lat + half_side_in_km/radius\n",
    "#     lon_min = lon - half_side_in_km/parallel_radius\n",
    "#     lon_max = lon + half_side_in_km/parallel_radius\n",
    "#     rad2deg = math.degrees\n",
    "\n",
    "#     box = []\n",
    "#     box.append(rad2deg(lat_min))\n",
    "#     box.append(rad2deg(lon_min))\n",
    "#     box.append(rad2deg(lat_max))\n",
    "#     box.append(rad2deg(lon_max))\n",
    "#     return box"
   ]
  },
  {
   "cell_type": "code",
   "execution_count": 27,
   "metadata": {
    "collapsed": false
   },
   "outputs": [],
   "source": [
    "#get_bounding_box(42.004805,-87.81746, 0.5)"
   ]
  },
  {
   "cell_type": "code",
   "execution_count": 28,
   "metadata": {
    "collapsed": true
   },
   "outputs": [],
   "source": [
    "#train.Trap.unique()"
   ]
  },
  {
   "cell_type": "code",
   "execution_count": 29,
   "metadata": {
    "collapsed": false
   },
   "outputs": [],
   "source": [
    "import geopandas as gpd\n",
    "from shapely.geometry import Point, mapping,shape\n",
    "from geopandas import GeoDataFrame, read_file\n",
    "#from geopandas.tools import overlay\n",
    "from geopandas.tools import sjoin\n",
    "from shapely.geometry import Point\n"
   ]
  },
  {
   "cell_type": "code",
   "execution_count": 30,
   "metadata": {
    "collapsed": false
   },
   "outputs": [],
   "source": [
    "# train['geometry'] = train.apply(lambda z: (z.Latitude, z.Longitude), axis=1)"
   ]
  },
  {
   "cell_type": "code",
   "execution_count": 31,
   "metadata": {
    "collapsed": true
   },
   "outputs": [],
   "source": [
    "# spray['geometry'] = spray.apply(lambda z: (z.Latitude, z.Longitude), axis=1)"
   ]
  },
  {
   "cell_type": "code",
   "execution_count": 32,
   "metadata": {
    "collapsed": false
   },
   "outputs": [
    {
     "data": {
      "text/html": [
       "<div>\n",
       "<table border=\"1\" class=\"dataframe\">\n",
       "  <thead>\n",
       "    <tr style=\"text-align: right;\">\n",
       "      <th></th>\n",
       "      <th>Date</th>\n",
       "      <th>Time</th>\n",
       "      <th>Latitude</th>\n",
       "      <th>Longitude</th>\n",
       "    </tr>\n",
       "  </thead>\n",
       "  <tbody>\n",
       "    <tr>\n",
       "      <th>0</th>\n",
       "      <td>2011-08-29</td>\n",
       "      <td>6:56:58 PM</td>\n",
       "      <td>42.391623</td>\n",
       "      <td>-88.089163</td>\n",
       "    </tr>\n",
       "  </tbody>\n",
       "</table>\n",
       "</div>"
      ],
      "text/plain": [
       "         Date        Time   Latitude  Longitude\n",
       "0  2011-08-29  6:56:58 PM  42.391623 -88.089163"
      ]
     },
     "execution_count": 32,
     "metadata": {},
     "output_type": "execute_result"
    }
   ],
   "source": [
    "spray.head(1)"
   ]
  },
  {
   "cell_type": "code",
   "execution_count": 33,
   "metadata": {
    "collapsed": true
   },
   "outputs": [],
   "source": [
    "# train.head(1)"
   ]
  },
  {
   "cell_type": "code",
   "execution_count": 34,
   "metadata": {
    "collapsed": true
   },
   "outputs": [],
   "source": [
    "# from geopandas import GeoDataFrame\n",
    "# from shapely.geometry import Point\n"
   ]
  },
  {
   "cell_type": "code",
   "execution_count": 35,
   "metadata": {
    "collapsed": false
   },
   "outputs": [],
   "source": [
    "# geometry = [Point(xy) for xy in zip(train.Longitude, train.Latitude)]\n",
    "# train = train.drop(['Longitude', 'Latitude'], axis=1)\n",
    "# crs = {'init': 'epsg:4326'}\n",
    "# geo_df = GeoDataFrame(train, crs=crs, geometry=geometry)"
   ]
  },
  {
   "cell_type": "code",
   "execution_count": 36,
   "metadata": {
    "collapsed": false
   },
   "outputs": [],
   "source": [
    "# geo_df['geometry']= geo_df.buffer(.89)"
   ]
  },
  {
   "cell_type": "code",
   "execution_count": 37,
   "metadata": {
    "collapsed": true
   },
   "outputs": [],
   "source": [
    "# geo_df.head(1)"
   ]
  },
  {
   "cell_type": "code",
   "execution_count": 38,
   "metadata": {
    "collapsed": true
   },
   "outputs": [],
   "source": [
    "# geometry = [Point(xy) for xy in zip(spray.Longitude, spray.Latitude)]\n",
    "# spray = spray.drop(['Longitude', 'Latitude'], axis=1)\n",
    "# crs = {'init': 'epsg:4326'}\n",
    "# spray_df = GeoDataFrame(spray, crs=crs, geometry=geometry)"
   ]
  },
  {
   "cell_type": "code",
   "execution_count": 39,
   "metadata": {
    "collapsed": false
   },
   "outputs": [],
   "source": [
    "# spray_df.head(1)"
   ]
  },
  {
   "cell_type": "code",
   "execution_count": null,
   "metadata": {
    "collapsed": true
   },
   "outputs": [],
   "source": []
  },
  {
   "cell_type": "code",
   "execution_count": 40,
   "metadata": {
    "collapsed": false
   },
   "outputs": [],
   "source": [
    "# import rtree\n"
   ]
  },
  {
   "cell_type": "code",
   "execution_count": 41,
   "metadata": {
    "collapsed": false
   },
   "outputs": [],
   "source": [
    "#cities_with_country = gpd.sjoin(geo_df, spray_df, how=\"inner\", op='within')"
   ]
  },
  {
   "cell_type": "code",
   "execution_count": 42,
   "metadata": {
    "collapsed": true
   },
   "outputs": [],
   "source": [
    "# from vincenty import vincenty"
   ]
  },
  {
   "cell_type": "code",
   "execution_count": 43,
   "metadata": {
    "collapsed": false
   },
   "outputs": [],
   "source": [
    "# if vincenty((42.3916233333, -88.0891633333), (42.3913483333, -88.0891633333)) <0.5:\n",
    "#     print 'cool'"
   ]
  },
  {
   "cell_type": "code",
   "execution_count": 44,
   "metadata": {
    "collapsed": false
   },
   "outputs": [],
   "source": [
    "# # train[\"date-spray\"] = train\n",
    "# # target_remap_dict = {}\n",
    "# def nuv(train, spray):\n",
    "#     for x,y in zip(train['geometry'], spray['geometry']):\n",
    "#         if vincenty(x,y) <0.5:\n",
    "#             final = pd.merge(train, spray, left_on = 'Date', right_on = 'Date', how= 'left')\n",
    "#     return final\n",
    "    "
   ]
  },
  {
   "cell_type": "code",
   "execution_count": 45,
   "metadata": {
    "collapsed": true
   },
   "outputs": [],
   "source": [
    "import numpy as np"
   ]
  },
  {
   "cell_type": "code",
   "execution_count": 46,
   "metadata": {
    "collapsed": false
   },
   "outputs": [
    {
     "name": "stdout",
     "output_type": "stream",
     "text": [
      "1000\n",
      "2000\n",
      "3000\n",
      "4000\n",
      "5000\n",
      "6000\n",
      "7000\n",
      "8000\n",
      "9000\n",
      "10000\n"
     ]
    }
   ],
   "source": [
    "def clean_and_transform(train, weather):\n",
    "    #Replacing M which is missing data and T which is Trace Data with NAN\n",
    "    weather_df.replace(\"M\", np.nan, inplace = True)\n",
    "    weather_df.replace(\"T\", np.nan, inplace = True)\n",
    "    \n",
    "    #Casting all appropriate weather columns as ints\n",
    "    numeric_columns = ['Station', 'Tmax', 'Tmin', 'Tavg', 'Depart', 'DewPoint', 'WetBulb', 'Heat', 'Cool', 'Sunrise', 'Sunset', 'Depth', 'Water1', 'SnowFall', 'PrecipTotal', 'StnPressure', 'SeaLevel', 'ResultSpeed', 'ResultDir', 'AvgSpeed']\n",
    "    for column in numeric_columns:\n",
    "        weather_df[column] = weather_df[column].apply(pd.to_numeric, errors='coerce')\n",
    "    \n",
    "    #Originally I tried using dataframe.iterows to add in spray data. That was taking so long. Using a dictionary because that can be more efficient.\n",
    "\n",
    "    #Rolling up Data so only one record for date and trap available, and also adding spray location based on Date and Location\n",
    "    train[\"Date-Trap\"] = train[\"Date\"] + \"-\" + train[\"Trap\"]\n",
    "    target_remap_dict = {}\n",
    "    for index, row in train[[\"Date-Trap\", \"WnvPresent\", \"Species\", \"Date\", \"Latitude\", \"Longitude\"]].iterrows():\n",
    "        #Checking for WNV Mosquito Species\n",
    "        if row[\"Species\"] in [\"CULEX PIPIENS/RESTUANS\", \"CULEX RESTUANS\", \"CULEX PIPIENS\"]:\n",
    "            wnv_mosquitos = 1\n",
    "        else:\n",
    "            wnv_mosquitos = 0\n",
    "        #Updating Dictionary\n",
    "        try:\n",
    "            if target_remap_dict[row[\"Date-Trap\"]][\"WnvPresentAdj\"] == 0:\n",
    "                target_remap_dict[row[\"Date-Trap\"]][\"WnvPresentAdj\"] = row[\"WnvPresent\"]\n",
    "            if target_remap_dict[row[\"Date-Trap\"]][\"WnvMosquito\"] == 0:\n",
    "                target_remap_dict[row[\"Date-Trap\"]][\"WnvMosquito\"] = wnv_mosquitos\n",
    "        except KeyError: \n",
    "            target_remap_dict[row[\"Date-Trap\"]] = {\"WnvPresentAdj\": row[\"WnvPresent\"], \"WnvMosquito\": wnv_mosquitos}\n",
    "        if (index + 1) % 1000 == 0:\n",
    "            print index + 1\n",
    "    target_remap_df = pd.DataFrame.from_dict(target_remap_dict, orient = \"index\")\n",
    "    \n",
    "    #Combining DFs. Using O'Hare Data because Midway does not track certain features\n",
    "    #Depth and SnowFall likely are bad values because Midway lists them all as M and O'Hare lists them all as 0 (I doubt Chicago had 0 snowfall)\n",
    "    master_df = train.drop_duplicates(subset = [\"Date\", \"Trap\"])\n",
    "    del master_df['WnvPresent']\n",
    "    del master_df['Species']\n",
    "    master_df = pd.merge(master_df, target_remap_df, left_on = \"Date-Trap\", right_index = True)\n",
    "    master_df = pd.merge(master_df, weather[weather.Station == 1], left_on = \"Date\", right_on = \"Date\", how = \"left\")\n",
    "    del master_df[\"Date-Trap\"]\n",
    "    \n",
    "    #Converting Date from string to date. The df only has data for odd years which is weird!\n",
    "    master_df[\"Date\"] = pd.to_datetime(master_df.Date)\n",
    "    return master_df\n",
    "\n",
    "train_df = pd.read_csv(\"./train.csv\")\n",
    "weather_df = pd.read_csv(\"./weather.csv\")\n",
    "\n",
    "master_df = clean_and_transform(train_df, weather_df)"
   ]
  },
  {
   "cell_type": "code",
   "execution_count": 47,
   "metadata": {
    "collapsed": true
   },
   "outputs": [],
   "source": [
    "from sklearn.linear_model import LogisticRegression\n",
    "import numpy as np\n",
    "import matplotlib.pyplot as plt\n",
    "from sklearn import svm, linear_model, datasets\n",
    "from sklearn.model_selection import cross_val_score"
   ]
  },
  {
   "cell_type": "code",
   "execution_count": 48,
   "metadata": {
    "collapsed": false
   },
   "outputs": [
    {
     "data": {
      "text/plain": [
       "(4616, 33)"
      ]
     },
     "execution_count": 48,
     "metadata": {},
     "output_type": "execute_result"
    }
   ],
   "source": [
    "master_df.shape"
   ]
  },
  {
   "cell_type": "code",
   "execution_count": 49,
   "metadata": {
    "collapsed": false
   },
   "outputs": [
    {
     "data": {
      "text/plain": [
       "Index([u'Date', u'Address', u'Block', u'Street', u'Trap',\n",
       "       u'AddressNumberAndStreet', u'Latitude', u'Longitude',\n",
       "       u'AddressAccuracy', u'NumMosquitos', u'WnvMosquito', u'WnvPresentAdj',\n",
       "       u'Station', u'Tmax', u'Tmin', u'Tavg', u'Depart', u'DewPoint',\n",
       "       u'WetBulb', u'Heat', u'Cool', u'Sunrise', u'Sunset', u'CodeSum',\n",
       "       u'Depth', u'Water1', u'SnowFall', u'PrecipTotal', u'StnPressure',\n",
       "       u'SeaLevel', u'ResultSpeed', u'ResultDir', u'AvgSpeed'],\n",
       "      dtype='object')"
      ]
     },
     "execution_count": 49,
     "metadata": {},
     "output_type": "execute_result"
    }
   ],
   "source": [
    "master_df.columns"
   ]
  },
  {
   "cell_type": "code",
   "execution_count": 50,
   "metadata": {
    "collapsed": false
   },
   "outputs": [
    {
     "data": {
      "text/plain": [
       "<matplotlib.axes._subplots.AxesSubplot at 0x11a47e150>"
      ]
     },
     "execution_count": 50,
     "metadata": {},
     "output_type": "execute_result"
    },
    {
     "data": {
      "image/png": "[encoded data removed]",
      "text/plain": [
       "<matplotlib.figure.Figure at 0x117a377d0>"
      ]
     },
     "metadata": {},
     "output_type": "display_data"
    }
   ],
   "source": [
    "cor =master_df.corr()\n",
    "f, ax = plt.subplots(figsize=(12, 9))\n",
    "sns.heatmap(cor, vmax=.8, square=True)"
   ]
  },
  {
   "cell_type": "code",
   "execution_count": 94,
   "metadata": {
    "collapsed": false
   },
   "outputs": [],
   "source": [
    "final = master_df.dropna(subset= ['WetBulb'])"
   ]
  },
  {
   "cell_type": "code",
   "execution_count": 97,
   "metadata": {
    "collapsed": false
   },
   "outputs": [
    {
     "data": {
      "text/html": [
       "<div>\n",
       "<table border=\"1\" class=\"dataframe\">\n",
       "  <thead>\n",
       "    <tr style=\"text-align: right;\">\n",
       "      <th></th>\n",
       "      <th>Date</th>\n",
       "      <th>Address</th>\n",
       "      <th>Block</th>\n",
       "      <th>Street</th>\n",
       "      <th>Trap</th>\n",
       "      <th>AddressNumberAndStreet</th>\n",
       "      <th>Latitude</th>\n",
       "      <th>Longitude</th>\n",
       "      <th>AddressAccuracy</th>\n",
       "      <th>NumMosquitos</th>\n",
       "      <th>...</th>\n",
       "      <th>79</th>\n",
       "      <th>80</th>\n",
       "      <th>81</th>\n",
       "      <th>82</th>\n",
       "      <th>89</th>\n",
       "      <th>90</th>\n",
       "      <th>91</th>\n",
       "      <th>93</th>\n",
       "      <th>96</th>\n",
       "      <th>98</th>\n",
       "    </tr>\n",
       "  </thead>\n",
       "  <tbody>\n",
       "    <tr>\n",
       "      <th>0</th>\n",
       "      <td>2007-05-29</td>\n",
       "      <td>4100 North Oak Park Avenue, Chicago, IL 60634,...</td>\n",
       "      <td>41</td>\n",
       "      <td>N OAK PARK AVE</td>\n",
       "      <td>T002</td>\n",
       "      <td>4100  N OAK PARK AVE, Chicago, IL</td>\n",
       "      <td>41.95469</td>\n",
       "      <td>-87.800991</td>\n",
       "      <td>9</td>\n",
       "      <td>1</td>\n",
       "      <td>...</td>\n",
       "      <td>0</td>\n",
       "      <td>0</td>\n",
       "      <td>0</td>\n",
       "      <td>0</td>\n",
       "      <td>0</td>\n",
       "      <td>0</td>\n",
       "      <td>0</td>\n",
       "      <td>0</td>\n",
       "      <td>0</td>\n",
       "      <td>0</td>\n",
       "    </tr>\n",
       "  </tbody>\n",
       "</table>\n",
       "<p>1 rows × 97 columns</p>\n",
       "</div>"
      ],
      "text/plain": [
       "        Date                                            Address  Block  \\\n",
       "0 2007-05-29  4100 North Oak Park Avenue, Chicago, IL 60634,...     41   \n",
       "\n",
       "            Street  Trap             AddressNumberAndStreet  Latitude  \\\n",
       "0   N OAK PARK AVE  T002  4100  N OAK PARK AVE, Chicago, IL  41.95469   \n",
       "\n",
       "   Longitude  AddressAccuracy  NumMosquitos ...  79  80  81  82  89  90  91  \\\n",
       "0 -87.800991                9             1 ...   0   0   0   0   0   0   0   \n",
       "\n",
       "   93  96  98  \n",
       "0   0   0   0  \n",
       "\n",
       "[1 rows x 97 columns]"
      ]
     },
     "execution_count": 97,
     "metadata": {},
     "output_type": "execute_result"
    }
   ],
   "source": [
    "final.head(1)"
   ]
  },
  {
   "cell_type": "code",
   "execution_count": 53,
   "metadata": {
    "collapsed": false
   },
   "outputs": [
    {
     "data": {
      "text/plain": [
       "Index([u'Date', u'Address', u'Block', u'Street', u'Trap',\n",
       "       u'AddressNumberAndStreet', u'Latitude', u'Longitude',\n",
       "       u'AddressAccuracy', u'NumMosquitos', u'WnvMosquito', u'WnvPresentAdj',\n",
       "       u'Station', u'Tmax', u'Tmin', u'Tavg', u'Depart', u'DewPoint',\n",
       "       u'WetBulb', u'Heat', u'Cool', u'Sunrise', u'Sunset', u'CodeSum',\n",
       "       u'Depth', u'Water1', u'SnowFall', u'PrecipTotal', u'StnPressure',\n",
       "       u'SeaLevel', u'ResultSpeed', u'ResultDir', u'AvgSpeed'],\n",
       "      dtype='object')"
      ]
     },
     "execution_count": 53,
     "metadata": {},
     "output_type": "execute_result"
    }
   ],
   "source": [
    "master_df.columns"
   ]
  },
  {
   "cell_type": "code",
   "execution_count": 88,
   "metadata": {
    "collapsed": true
   },
   "outputs": [],
   "source": [
    "cd = pd.get_dummies(master_df['Trap'])"
   ]
  },
  {
   "cell_type": "code",
   "execution_count": 90,
   "metadata": {
    "collapsed": false
   },
   "outputs": [
    {
     "data": {
      "text/plain": [
       "Int64Index([10, 11, 12, 13, 14, 15, 17, 18, 20, 21, 22, 24, 25, 27, 28, 29, 30,\n",
       "            33, 34, 35, 36, 37, 38, 39, 40, 41, 42, 43, 45, 46, 47, 48, 49, 50,\n",
       "            51, 52, 53, 55, 58, 60, 61, 62, 63, 64, 65, 66, 67, 68, 70, 71, 72,\n",
       "            73, 75, 77, 79, 80, 81, 82, 89, 90, 91, 93, 96, 98],\n",
       "           dtype='int64')"
      ]
     },
     "execution_count": 90,
     "metadata": {},
     "output_type": "execute_result"
    }
   ],
   "source": [
    "cd.columns"
   ]
  },
  {
   "cell_type": "code",
   "execution_count": 91,
   "metadata": {
    "collapsed": true
   },
   "outputs": [],
   "source": [
    "master_df = pd.concat([master_df, cd], axis=1)"
   ]
  },
  {
   "cell_type": "code",
   "execution_count": 92,
   "metadata": {
    "collapsed": true
   },
   "outputs": [
    {
     "data": {
      "text/html": [
       "<div>\n",
       "<table border=\"1\" class=\"dataframe\">\n",
       "  <thead>\n",
       "    <tr style=\"text-align: right;\">\n",
       "      <th></th>\n",
       "      <th>Date</th>\n",
       "      <th>Address</th>\n",
       "      <th>Block</th>\n",
       "      <th>Street</th>\n",
       "      <th>Trap</th>\n",
       "      <th>AddressNumberAndStreet</th>\n",
       "      <th>Latitude</th>\n",
       "      <th>Longitude</th>\n",
       "      <th>AddressAccuracy</th>\n",
       "      <th>NumMosquitos</th>\n",
       "      <th>...</th>\n",
       "      <th>79</th>\n",
       "      <th>80</th>\n",
       "      <th>81</th>\n",
       "      <th>82</th>\n",
       "      <th>89</th>\n",
       "      <th>90</th>\n",
       "      <th>91</th>\n",
       "      <th>93</th>\n",
       "      <th>96</th>\n",
       "      <th>98</th>\n",
       "    </tr>\n",
       "  </thead>\n",
       "  <tbody>\n",
       "    <tr>\n",
       "      <th>0</th>\n",
       "      <td>2007-05-29</td>\n",
       "      <td>4100 North Oak Park Avenue, Chicago, IL 60634,...</td>\n",
       "      <td>41</td>\n",
       "      <td>N OAK PARK AVE</td>\n",
       "      <td>T002</td>\n",
       "      <td>4100  N OAK PARK AVE, Chicago, IL</td>\n",
       "      <td>41.954690</td>\n",
       "      <td>-87.800991</td>\n",
       "      <td>9</td>\n",
       "      <td>1</td>\n",
       "      <td>...</td>\n",
       "      <td>0</td>\n",
       "      <td>0</td>\n",
       "      <td>0</td>\n",
       "      <td>0</td>\n",
       "      <td>0</td>\n",
       "      <td>0</td>\n",
       "      <td>0</td>\n",
       "      <td>0</td>\n",
       "      <td>0</td>\n",
       "      <td>0</td>\n",
       "    </tr>\n",
       "    <tr>\n",
       "      <th>1</th>\n",
       "      <td>2007-05-29</td>\n",
       "      <td>6200 North Mandell Avenue, Chicago, IL 60646, USA</td>\n",
       "      <td>62</td>\n",
       "      <td>N MANDELL AVE</td>\n",
       "      <td>T007</td>\n",
       "      <td>6200  N MANDELL AVE, Chicago, IL</td>\n",
       "      <td>41.994991</td>\n",
       "      <td>-87.769279</td>\n",
       "      <td>9</td>\n",
       "      <td>1</td>\n",
       "      <td>...</td>\n",
       "      <td>0</td>\n",
       "      <td>0</td>\n",
       "      <td>0</td>\n",
       "      <td>0</td>\n",
       "      <td>0</td>\n",
       "      <td>0</td>\n",
       "      <td>0</td>\n",
       "      <td>0</td>\n",
       "      <td>0</td>\n",
       "      <td>0</td>\n",
       "    </tr>\n",
       "    <tr>\n",
       "      <th>2</th>\n",
       "      <td>2007-05-29</td>\n",
       "      <td>7900 West Foster Avenue, Chicago, IL 60656, USA</td>\n",
       "      <td>79</td>\n",
       "      <td>W FOSTER AVE</td>\n",
       "      <td>T015</td>\n",
       "      <td>7900  W FOSTER AVE, Chicago, IL</td>\n",
       "      <td>41.974089</td>\n",
       "      <td>-87.824812</td>\n",
       "      <td>8</td>\n",
       "      <td>1</td>\n",
       "      <td>...</td>\n",
       "      <td>1</td>\n",
       "      <td>0</td>\n",
       "      <td>0</td>\n",
       "      <td>0</td>\n",
       "      <td>0</td>\n",
       "      <td>0</td>\n",
       "      <td>0</td>\n",
       "      <td>0</td>\n",
       "      <td>0</td>\n",
       "      <td>0</td>\n",
       "    </tr>\n",
       "    <tr>\n",
       "      <th>3</th>\n",
       "      <td>2007-05-29</td>\n",
       "      <td>1500 West Webster Avenue, Chicago, IL 60614, USA</td>\n",
       "      <td>15</td>\n",
       "      <td>W WEBSTER AVE</td>\n",
       "      <td>T045</td>\n",
       "      <td>1500  W WEBSTER AVE, Chicago, IL</td>\n",
       "      <td>41.921600</td>\n",
       "      <td>-87.666455</td>\n",
       "      <td>8</td>\n",
       "      <td>2</td>\n",
       "      <td>...</td>\n",
       "      <td>0</td>\n",
       "      <td>0</td>\n",
       "      <td>0</td>\n",
       "      <td>0</td>\n",
       "      <td>0</td>\n",
       "      <td>0</td>\n",
       "      <td>0</td>\n",
       "      <td>0</td>\n",
       "      <td>0</td>\n",
       "      <td>0</td>\n",
       "    </tr>\n",
       "    <tr>\n",
       "      <th>4</th>\n",
       "      <td>2007-05-29</td>\n",
       "      <td>2500 West Grand Avenue, Chicago, IL 60654, USA</td>\n",
       "      <td>25</td>\n",
       "      <td>W GRAND AVE</td>\n",
       "      <td>T046</td>\n",
       "      <td>2500  W GRAND AVE, Chicago, IL</td>\n",
       "      <td>41.891118</td>\n",
       "      <td>-87.654491</td>\n",
       "      <td>8</td>\n",
       "      <td>1</td>\n",
       "      <td>...</td>\n",
       "      <td>0</td>\n",
       "      <td>0</td>\n",
       "      <td>0</td>\n",
       "      <td>0</td>\n",
       "      <td>0</td>\n",
       "      <td>0</td>\n",
       "      <td>0</td>\n",
       "      <td>0</td>\n",
       "      <td>0</td>\n",
       "      <td>0</td>\n",
       "    </tr>\n",
       "  </tbody>\n",
       "</table>\n",
       "<p>5 rows × 97 columns</p>\n",
       "</div>"
      ],
      "text/plain": [
       "        Date                                            Address  Block  \\\n",
       "0 2007-05-29  4100 North Oak Park Avenue, Chicago, IL 60634,...     41   \n",
       "1 2007-05-29  6200 North Mandell Avenue, Chicago, IL 60646, USA     62   \n",
       "2 2007-05-29    7900 West Foster Avenue, Chicago, IL 60656, USA     79   \n",
       "3 2007-05-29   1500 West Webster Avenue, Chicago, IL 60614, USA     15   \n",
       "4 2007-05-29     2500 West Grand Avenue, Chicago, IL 60654, USA     25   \n",
       "\n",
       "            Street  Trap             AddressNumberAndStreet   Latitude  \\\n",
       "0   N OAK PARK AVE  T002  4100  N OAK PARK AVE, Chicago, IL  41.954690   \n",
       "1    N MANDELL AVE  T007   6200  N MANDELL AVE, Chicago, IL  41.994991   \n",
       "2     W FOSTER AVE  T015    7900  W FOSTER AVE, Chicago, IL  41.974089   \n",
       "3    W WEBSTER AVE  T045   1500  W WEBSTER AVE, Chicago, IL  41.921600   \n",
       "4      W GRAND AVE  T046     2500  W GRAND AVE, Chicago, IL  41.891118   \n",
       "\n",
       "   Longitude  AddressAccuracy  NumMosquitos ...  79  80  81  82  89  90  91  \\\n",
       "0 -87.800991                9             1 ...   0   0   0   0   0   0   0   \n",
       "1 -87.769279                9             1 ...   0   0   0   0   0   0   0   \n",
       "2 -87.824812                8             1 ...   1   0   0   0   0   0   0   \n",
       "3 -87.666455                8             2 ...   0   0   0   0   0   0   0   \n",
       "4 -87.654491                8             1 ...   0   0   0   0   0   0   0   \n",
       "\n",
       "   93  96  98  \n",
       "0   0   0   0  \n",
       "1   0   0   0  \n",
       "2   0   0   0  \n",
       "3   0   0   0  \n",
       "4   0   0   0  \n",
       "\n",
       "[5 rows x 97 columns]"
      ]
     },
     "execution_count": 92,
     "metadata": {},
     "output_type": "execute_result"
    }
   ],
   "source": [
    "master_df.head()"
   ]
  },
  {
   "cell_type": "code",
   "execution_count": 98,
   "metadata": {
    "collapsed": false
   },
   "outputs": [
    {
     "data": {
      "text/html": [
       "<div>\n",
       "<table border=\"1\" class=\"dataframe\">\n",
       "  <thead>\n",
       "    <tr style=\"text-align: right;\">\n",
       "      <th></th>\n",
       "      <th>Date</th>\n",
       "      <th>Address</th>\n",
       "      <th>Block</th>\n",
       "      <th>Street</th>\n",
       "      <th>Trap</th>\n",
       "      <th>AddressNumberAndStreet</th>\n",
       "      <th>Latitude</th>\n",
       "      <th>Longitude</th>\n",
       "      <th>AddressAccuracy</th>\n",
       "      <th>NumMosquitos</th>\n",
       "      <th>...</th>\n",
       "      <th>79</th>\n",
       "      <th>80</th>\n",
       "      <th>81</th>\n",
       "      <th>82</th>\n",
       "      <th>89</th>\n",
       "      <th>90</th>\n",
       "      <th>91</th>\n",
       "      <th>93</th>\n",
       "      <th>96</th>\n",
       "      <th>98</th>\n",
       "    </tr>\n",
       "  </thead>\n",
       "  <tbody>\n",
       "    <tr>\n",
       "      <th>0</th>\n",
       "      <td>2007-05-29</td>\n",
       "      <td>4100 North Oak Park Avenue, Chicago, IL 60634,...</td>\n",
       "      <td>41</td>\n",
       "      <td>N OAK PARK AVE</td>\n",
       "      <td>T002</td>\n",
       "      <td>4100  N OAK PARK AVE, Chicago, IL</td>\n",
       "      <td>41.95469</td>\n",
       "      <td>-87.800991</td>\n",
       "      <td>9</td>\n",
       "      <td>1</td>\n",
       "      <td>...</td>\n",
       "      <td>0</td>\n",
       "      <td>0</td>\n",
       "      <td>0</td>\n",
       "      <td>0</td>\n",
       "      <td>0</td>\n",
       "      <td>0</td>\n",
       "      <td>0</td>\n",
       "      <td>0</td>\n",
       "      <td>0</td>\n",
       "      <td>0</td>\n",
       "    </tr>\n",
       "  </tbody>\n",
       "</table>\n",
       "<p>1 rows × 97 columns</p>\n",
       "</div>"
      ],
      "text/plain": [
       "        Date                                            Address  Block  \\\n",
       "0 2007-05-29  4100 North Oak Park Avenue, Chicago, IL 60634,...     41   \n",
       "\n",
       "            Street  Trap             AddressNumberAndStreet  Latitude  \\\n",
       "0   N OAK PARK AVE  T002  4100  N OAK PARK AVE, Chicago, IL  41.95469   \n",
       "\n",
       "   Longitude  AddressAccuracy  NumMosquitos ...  79  80  81  82  89  90  91  \\\n",
       "0 -87.800991                9             1 ...   0   0   0   0   0   0   0   \n",
       "\n",
       "   93  96  98  \n",
       "0   0   0   0  \n",
       "\n",
       "[1 rows x 97 columns]"
      ]
     },
     "execution_count": 98,
     "metadata": {},
     "output_type": "execute_result"
    }
   ],
   "source": [
    "final.head(1)"
   ]
  },
  {
   "cell_type": "code",
   "execution_count": 100,
   "metadata": {
    "collapsed": false
   },
   "outputs": [],
   "source": [
    "y = final['WnvPresentAdj']\n",
    "X = final.drop(['WnvPresentAdj', 'CodeSum', 'AddressNumberAndStreet', 'Date', 'Address','Street','Trap','Water1','PrecipTotal', 'SnowFall', 96, 93, 98], axis=1)#[['NumMosquitos', 'Cool', 'DewPoint', 'Sunrise','Heat', 'Tmax', 'Depart', 'WetBulb']]"
   ]
  },
  {
   "cell_type": "code",
   "execution_count": 103,
   "metadata": {
    "collapsed": false
   },
   "outputs": [],
   "source": [
    "from sklearn.metrics import pairwise_distances\n",
    "from sklearn import cluster, datasets, preprocessing, metrics\n",
    "X_scaled = preprocessing.normalize(X,axis=0)\n"
   ]
  },
  {
   "cell_type": "code",
   "execution_count": 104,
   "metadata": {
    "collapsed": true
   },
   "outputs": [],
   "source": [
    "from sklearn.model_selection import train_test_split\n",
    "X_train, X_test, y_train, y_test = train_test_split(X, y, stratify = y, train_size=.7)"
   ]
  },
  {
   "cell_type": "code",
   "execution_count": 145,
   "metadata": {
    "collapsed": false
   },
   "outputs": [],
   "source": [
    "clf = svm.SVC(kernel='linear')\n",
    "#cross_val_score(clf, X_train, y_train, cv=5, scoring='accuracy').mean()"
   ]
  },
  {
   "cell_type": "code",
   "execution_count": 106,
   "metadata": {
    "collapsed": false
   },
   "outputs": [
    {
     "data": {
      "text/plain": [
       "0.91150568181818181"
      ]
     },
     "execution_count": 106,
     "metadata": {},
     "output_type": "execute_result"
    }
   ],
   "source": [
    "clf = svm.SVC(kernel='rbf')\n",
    "cross_val_score(clf, X_train, y_train, cv=5, scoring='accuracy').mean()"
   ]
  },
  {
   "cell_type": "code",
   "execution_count": 59,
   "metadata": {
    "collapsed": true
   },
   "outputs": [],
   "source": [
    "# clf = svm.SVC(kernel='poly')\n",
    "# cross_val_score(clf, X_train, y_train, cv=3, scoring='accuracy').mean()"
   ]
  },
  {
   "cell_type": "code",
   "execution_count": 60,
   "metadata": {
    "collapsed": false
   },
   "outputs": [
    {
     "data": {
      "text/plain": [
       "0.91588517215945353"
      ]
     },
     "execution_count": 60,
     "metadata": {},
     "output_type": "execute_result"
    }
   ],
   "source": [
    "clf = svm.SVC(kernel='sigmoid')\n",
    "cross_val_score(clf, X_train, y_train, cv=3, scoring='accuracy').mean()"
   ]
  },
  {
   "cell_type": "code",
   "execution_count": 61,
   "metadata": {
    "collapsed": false
   },
   "outputs": [
    {
     "data": {
      "text/plain": [
       "0.90610366670581277"
      ]
     },
     "execution_count": 61,
     "metadata": {},
     "output_type": "execute_result"
    }
   ],
   "source": [
    "logistic = linear_model.LogisticRegression()\n",
    "cross_val_score(logistic, X, y, cv=5, scoring='accuracy').mean()\n"
   ]
  },
  {
   "cell_type": "code",
   "execution_count": 125,
   "metadata": {
    "collapsed": true
   },
   "outputs": [],
   "source": [
    "from sklearn.ensemble import AdaBoostClassifier"
   ]
  },
  {
   "cell_type": "code",
   "execution_count": 135,
   "metadata": {
    "collapsed": true
   },
   "outputs": [],
   "source": [
    "F = AdaBoostClassifier(X_scaled, n_estimators = 50, algorithm='SAMME')"
   ]
  },
  {
   "cell_type": "code",
   "execution_count": 247,
   "metadata": {
    "collapsed": true
   },
   "outputs": [],
   "source": [
    "def f(model, X_scaled,y,names):\n",
    "    X_train, X_test, y_train, y_test = train_test_split(X_scaled, y, stratify = y, train_size=.7, random_state = 626718) \n",
    "    #clf = model(n_estimators=150)\n",
    "    model.fit(X_train, y_train)\n",
    "    predictions = model.predict_proba(X_test)\n",
    "    adjusted_predict = [1 if x[1] > .498 else 0 for x in predictions]\n",
    "#     model.fit(X_train, y_train)\n",
    "    #y_pred = model.predict(X_test)\n",
    "    conmat = np.array(confusion_matrix(y_test, adjusted_predict, labels = [1,0]))\n",
    "    confusion = pd.DataFrame(conmat, index=[names[0:2]], columns =[names[2:]])\n",
    "    print confusion\n",
    "    acc = accuracy_score(y_test, adjusted_predict)\n",
    "    print(classification_report(y_test, adjusted_predict))\n",
    "    print acc"
   ]
  },
  {
   "cell_type": "code",
   "execution_count": 248,
   "metadata": {
    "collapsed": false
   },
   "outputs": [
    {
     "name": "stdout",
     "output_type": "stream",
     "text": [
      "                       pred westnile  predicted doesnt have westnile\n",
      "has westnile                      70                              46\n",
      "doesn't have westnile             97                            1158\n",
      "             precision    recall  f1-score   support\n",
      "\n",
      "          0       0.96      0.92      0.94      1255\n",
      "          1       0.42      0.60      0.49       116\n",
      "\n",
      "avg / total       0.92      0.90      0.90      1371\n",
      "\n",
      "0.895696571845\n"
     ]
    }
   ],
   "source": [
    "f(clf, X_scaled, y, names)"
   ]
  },
  {
   "cell_type": "code",
   "execution_count": 63,
   "metadata": {
    "collapsed": true
   },
   "outputs": [],
   "source": [
    "names = ['has westnile', \"doesn't have westnile\", \"pred westnile\", \"predicted doesnt have westnile\"]"
   ]
  },
  {
   "cell_type": "code",
   "execution_count": 64,
   "metadata": {
    "collapsed": false
   },
   "outputs": [],
   "source": [
    "from sklearn.metrics import confusion_matrix, accuracy_score, classification_report"
   ]
  },
  {
   "cell_type": "code",
   "execution_count": 187,
   "metadata": {
    "collapsed": false
   },
   "outputs": [],
   "source": [
    "clf = AdaBoostClassifier(n_estimators = 150)"
   ]
  },
  {
   "cell_type": "code",
   "execution_count": 175,
   "metadata": {
    "collapsed": false
   },
   "outputs": [],
   "source": [
    "predictions = clf.predict_proba(X_test)"
   ]
  },
  {
   "cell_type": "code",
   "execution_count": 176,
   "metadata": {
    "collapsed": true
   },
   "outputs": [
    {
     "data": {
      "text/plain": [
       "array([[ 0.67070584,  0.32929416],\n",
       "       [ 0.61460027,  0.38539973],\n",
       "       [ 0.66815539,  0.33184461],\n",
       "       ..., \n",
       "       [ 0.67088288,  0.32911712],\n",
       "       [ 0.66867236,  0.33132764],\n",
       "       [ 0.66989409,  0.33010591]])"
      ]
     },
     "execution_count": 176,
     "metadata": {},
     "output_type": "execute_result"
    }
   ],
   "source": [
    "predictions"
   ]
  },
  {
   "cell_type": "code",
   "execution_count": 177,
   "metadata": {
    "collapsed": false
   },
   "outputs": [],
   "source": [
    "adjusted_predict = [1 if x[1] > .3 else 0 for x in predictions]"
   ]
  },
  {
   "cell_type": "code",
   "execution_count": 178,
   "metadata": {
    "collapsed": false
   },
   "outputs": [
    {
     "name": "stdout",
     "output_type": "stream",
     "text": [
      "                       pred westnile  predicted doesnt have westnile\n",
      "has westnile                     115                               1\n",
      "doesn't have westnile           1192                              63\n"
     ]
    }
   ],
   "source": [
    "conmat = np.array(confusion_matrix(y_test, adjusted_predict, labels = [1,0]))\n",
    "confusion = pd.DataFrame(conmat, index=[names[0:2]], columns =[names[2:]])\n",
    "print confusion"
   ]
  },
  {
   "cell_type": "code",
   "execution_count": 200,
   "metadata": {
    "collapsed": false
   },
   "outputs": [
    {
     "name": "stdout",
     "output_type": "stream",
     "text": [
      "                       pred westnile  predicted doesnt have westnile\n",
      "has westnile                       0                             116\n",
      "doesn't have westnile              0                            1255\n",
      "             precision    recall  f1-score   support\n",
      "\n",
      "          0       0.92      1.00      0.96      1255\n",
      "          1       0.00      0.00      0.00       116\n",
      "\n",
      "avg / total       0.84      0.92      0.87      1371\n",
      "\n",
      "0.915390226112\n"
     ]
    }
   ],
   "source": [
    "f(clf, X_scaled, y, names)"
   ]
  },
  {
   "cell_type": "code",
   "execution_count": null,
   "metadata": {
    "collapsed": true
   },
   "outputs": [],
   "source": []
  },
  {
   "cell_type": "code",
   "execution_count": 115,
   "metadata": {
    "collapsed": false
   },
   "outputs": [
    {
     "name": "stdout",
     "output_type": "stream",
     "text": [
      "0.919037199125\n",
      "                       pred westnile  predicted doesnt have westnile\n",
      "has westnile                      19                              97\n",
      "doesn't have westnile             14                            1241\n"
     ]
    }
   ],
   "source": [
    "from sklearn.linear_model import LogisticRegression\n",
    "from sklearn.model_selection import train_test_split\n",
    "X_train, X_test, y_train, y_test = train_test_split(X, y, stratify = y, train_size=.7)\n",
    "\n",
    "logreg = LogisticRegression(random_state=77)\n",
    "logreg.fit(X_train, y_train)\n",
    "Y_pred = logreg.predict(X_test)\n",
    "acc = accuracy_score(y_test, Y_pred)\n",
    "print acc\n",
    "\n",
    "\n",
    "conmat = np.array(confusion_matrix(y_test, Y_pred, labels = [1,0]))\n",
    "names = ['has westnile', \"doesn't have westnile\", \"pred westnile\", \"predicted doesnt have westnile\"]\n",
    "confusion = pd.DataFrame(conmat, index=[names[0:2]], columns =[names[2:]])\n",
    "print confusion"
   ]
  },
  {
   "cell_type": "code",
   "execution_count": 116,
   "metadata": {
    "collapsed": false
   },
   "outputs": [
    {
     "data": {
      "text/html": [
       "<div>\n",
       "<table border=\"1\" class=\"dataframe\">\n",
       "  <thead>\n",
       "    <tr style=\"text-align: right;\">\n",
       "      <th></th>\n",
       "      <th>pred westnile</th>\n",
       "      <th>predicted doesnt have westnile</th>\n",
       "    </tr>\n",
       "  </thead>\n",
       "  <tbody>\n",
       "    <tr>\n",
       "      <th>has westnile</th>\n",
       "      <td>19</td>\n",
       "      <td>97</td>\n",
       "    </tr>\n",
       "    <tr>\n",
       "      <th>doesn't have westnile</th>\n",
       "      <td>14</td>\n",
       "      <td>1241</td>\n",
       "    </tr>\n",
       "  </tbody>\n",
       "</table>\n",
       "</div>"
      ],
      "text/plain": [
       "                       pred westnile  predicted doesnt have westnile\n",
       "has westnile                      19                              97\n",
       "doesn't have westnile             14                            1241"
      ]
     },
     "execution_count": 116,
     "metadata": {},
     "output_type": "execute_result"
    }
   ],
   "source": [
    "confusion"
   ]
  },
  {
   "cell_type": "code",
   "execution_count": 68,
   "metadata": {
    "collapsed": true
   },
   "outputs": [],
   "source": [
    "\n",
    "import matplotlib.pyplot as plt\n",
    "import numpy as np\n",
    "from itertools import cycle\n",
    "\n",
    "from sklearn import svm, datasets\n",
    "from sklearn.metrics import precision_recall_curve\n",
    "from sklearn.metrics import average_precision_score\n",
    "from sklearn.model_selection import train_test_split\n",
    "from sklearn.preprocessing import label_binarize\n",
    "from sklearn.multiclass import OneVsRestClassifier"
   ]
  },
  {
   "cell_type": "code",
   "execution_count": 69,
   "metadata": {
    "collapsed": false
   },
   "outputs": [
    {
     "data": {
      "image/png": "[encoded data removed]",
      "text/plain": [
       "<matplotlib.figure.Figure at 0x11d5c8210>"
      ]
     },
     "metadata": {},
     "output_type": "display_data"
    },
    {
     "data": {
      "image/png": "[encoded data removed]",
      "text/plain": [
       "<matplotlib.figure.Figure at 0x11d60a250>"
      ]
     },
     "metadata": {},
     "output_type": "display_data"
    }
   ],
   "source": [
    "colors = cycle(['navy', 'turquoise', 'darkorange', 'cornflowerblue', 'teal'])\n",
    "lw = 2\n",
    "\n",
    "# Binarize the output\n",
    "y = label_binarize(y, classes=[0, 1])\n",
    "n_classes = y.shape[1]\n",
    "random_state = np.random.RandomState(0)\n",
    "n_samples, n_features = X.shape\n",
    "X = np.c_[X, random_state.randn(n_samples, 200 * n_features)]\n",
    "\n",
    "# Split into training and test\n",
    "X_train, X_test, y_train, y_test = train_test_split(X, y, test_size=.7,\n",
    "                                                   stratify= y)\n",
    "classifier = OneVsRestClassifier(svm.SVC(kernel='linear', probability=True,\n",
    "                                 random_state=random_state))\n",
    "y_score = classifier.fit(X_train, y_train).decision_function(X_test)\n",
    "precision = dict()\n",
    "recall = dict()\n",
    "average_precision = dict()\n",
    "for i in range(n_classes):\n",
    "    precision[i], recall[i], _ = precision_recall_curve(y_test[:, i],\n",
    "                                                        y_score[:, i])\n",
    "    average_precision[i] = average_precision_score(y_test[:, i], y_score[:, i])\n",
    "\n",
    "# Compute micro-average ROC curve and ROC area\n",
    "precision[\"micro\"], recall[\"micro\"], _ = precision_recall_curve(y_test.ravel(),\n",
    "    y_score.ravel())\n",
    "average_precision[\"micro\"] = average_precision_score(y_test, y_score,\n",
    "                                                     average=\"micro\")\n",
    "\n",
    "\n",
    "# Plot Precision-Recall curve\n",
    "plt.clf()\n",
    "plt.plot(recall[0], precision[0], lw=lw, color='navy',\n",
    "         label='Precision-Recall curve')\n",
    "plt.xlabel('Recall')\n",
    "plt.ylabel('Precision')\n",
    "plt.ylim([0.0, 1.05])\n",
    "plt.xlim([0.0, 1.0])\n",
    "plt.title('Precision-Recall example: AUC={0:0.2f}'.format(average_precision[0]))\n",
    "plt.legend(loc=\"lower left\")\n",
    "plt.show()\n",
    "\n",
    "# Plot Precision-Recall curve for each class\n",
    "plt.clf()\n",
    "plt.plot(recall[\"micro\"], precision[\"micro\"], color='gold', lw=lw,\n",
    "         label='micro-average Precision-recall curve (area = {0:0.2f})'\n",
    "               ''.format(average_precision[\"micro\"]))\n",
    "for i, color in zip(range(n_classes), colors):\n",
    "    plt.plot(recall[i], precision[i], color=color, lw=lw,\n",
    "             label='Precision-recall curve of class {0} (area = {1:0.2f})'\n",
    "                   ''.format(i, average_precision[i]))\n",
    "\n",
    "plt.xlim([0.0, 1.0])\n",
    "plt.ylim([0.0, 1.05])\n",
    "plt.xlabel('Recall')\n",
    "plt.ylabel('Precision')\n",
    "plt.title('Extension of Precision-Recall curve to multi-class')\n",
    "plt.legend(loc=\"lower right\")\n",
    "plt.show()"
   ]
  },
  {
   "cell_type": "code",
   "execution_count": 80,
   "metadata": {
    "collapsed": true
   },
   "outputs": [],
   "source": [
    "from sklearn.calibration import CalibratedClassifierCV\n",
    "from sklearn.metrics import brier_score_loss"
   ]
  },
  {
   "cell_type": "code",
   "execution_count": 73,
   "metadata": {
    "collapsed": true
   },
   "outputs": [],
   "source": [
    "calibrated_X = CalibratedClassifierCV(X_train, method = 'sigmoid', cv = 5)"
   ]
  },
  {
   "cell_type": "code",
   "execution_count": 124,
   "metadata": {
    "collapsed": false
   },
   "outputs": [
    {
     "name": "stdout",
     "output_type": "stream",
     "text": [
      "                       pred westnile  predicted doesnt have westnile\n",
      "has westnile                      11                             105\n",
      "doesn't have westnile              9                            1246\n",
      "With sigmoid calibration: 0.064\n",
      "With isotonic calibration: 0.064\n"
     ]
    }
   ],
   "source": [
    "from sklearn.linear_model import LogisticRegression\n",
    "from sklearn.model_selection import train_test_split\n",
    "X_train, X_test, y_train, y_test = train_test_split(X, y, stratify = y, train_size=.7)\n",
    "\n",
    "logreg = LogisticRegression()\n",
    "\n",
    "logreg_sigmoid = CalibratedClassifierCV(logreg, cv=5, method='sigmoid')\n",
    "logreg_sigmoid.fit(X_train, y_train)\n",
    "prob_pos_sigmoid = logreg_sigmoid.predict_proba(X_test)[:, 1]\n",
    "\n",
    "Y_pred = logreg_sigmoid.predict(X_test)\n",
    "# acc = accuracy_score(y_test, Y_pred)\n",
    "# print acc\n",
    "logreg_isotonic = CalibratedClassifierCV(logreg, cv=5, method='isotonic')\n",
    "logreg_isotonic.fit(X_train, y_train)\n",
    "prob_pos_isotonic = logreg_isotonic.predict_proba(X_test)[:, 1]\n",
    "\n",
    "\n",
    "conmat = np.array(confusion_matrix(y_test, Y_pred, labels = [1,0]))\n",
    "names = ['has westnile', \"doesn't have westnile\", \"pred westnile\", \"predicted doesnt have westnile\"]\n",
    "confusion = pd.DataFrame(conmat, index=[names[0:2]], columns =[names[2:]])\n",
    "print confusion\n",
    "clf_sigmoid_score = brier_score_loss(y_test, prob_pos_sigmoid)\n",
    "print(\"With sigmoid calibration: %1.3f\" % clf_sigmoid_score)\n",
    "\n",
    "clf_isotonic_score = brier_score_loss(y_test, prob_pos_isotonic)\n",
    "print(\"With isotonic calibration: %1.3f\" % clf_isotonic_score)"
   ]
  },
  {
   "cell_type": "code",
   "execution_count": null,
   "metadata": {
    "collapsed": true
   },
   "outputs": [],
   "source": []
  },
  {
   "cell_type": "code",
   "execution_count": null,
   "metadata": {
    "collapsed": true
   },
   "outputs": [],
   "source": []
  }
 ],
 "metadata": {
  "kernelspec": {
   "display_name": "Python 2",
   "language": "python",
   "name": "python2"
  },
  "language_info": {
   "codemirror_mode": {
    "name": "ipython",
    "version": 2
   },
   "file_extension": ".py",
   "mimetype": "text/x-python",
   "name": "python",
   "nbconvert_exporter": "python",
   "pygments_lexer": "ipython2",
   "version": "2.7.13"
  }
 },
 "nbformat": 4,
 "nbformat_minor": 2
}

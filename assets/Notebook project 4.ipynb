{
 "cells": [
  {
   "cell_type": "code",
   "execution_count": 1,
   "metadata": {
    "collapsed": true
   },
   "outputs": [],
   "source": [
    "import pandas as pd"
   ]
  },
  {
   "cell_type": "code",
   "execution_count": 2,
   "metadata": {
    "collapsed": true
   },
   "outputs": [],
   "source": [
    "spray = pd.read_csv('./spray.csv')"
   ]
  },
  {
   "cell_type": "code",
   "execution_count": 39,
   "metadata": {
    "collapsed": false
   },
   "outputs": [
    {
     "data": {
      "text/plain": [
       "Date           0\n",
       "Time         584\n",
       "Latitude       0\n",
       "Longitude      0\n",
       "dtype: int64"
      ]
     },
     "execution_count": 39,
     "metadata": {},
     "output_type": "execute_result"
    }
   ],
   "source": [
    "spray.isnull().sum()"
   ]
  },
  {
   "cell_type": "code",
   "execution_count": 63,
   "metadata": {
    "collapsed": false
   },
   "outputs": [
    {
     "data": {
      "text/html": [
       "<div>\n",
       "<table border=\"1\" class=\"dataframe\">\n",
       "  <thead>\n",
       "    <tr style=\"text-align: right;\">\n",
       "      <th></th>\n",
       "      <th>Date</th>\n",
       "      <th>Time</th>\n",
       "      <th>Latitude</th>\n",
       "      <th>Longitude</th>\n",
       "    </tr>\n",
       "  </thead>\n",
       "  <tbody>\n",
       "    <tr>\n",
       "      <th>0</th>\n",
       "      <td>2011-08-29</td>\n",
       "      <td>6:56:58 PM</td>\n",
       "      <td>42.391623</td>\n",
       "      <td>-88.089163</td>\n",
       "    </tr>\n",
       "    <tr>\n",
       "      <th>1</th>\n",
       "      <td>2011-08-29</td>\n",
       "      <td>6:57:08 PM</td>\n",
       "      <td>42.391348</td>\n",
       "      <td>-88.089163</td>\n",
       "    </tr>\n",
       "    <tr>\n",
       "      <th>2</th>\n",
       "      <td>2011-08-29</td>\n",
       "      <td>6:57:18 PM</td>\n",
       "      <td>42.391022</td>\n",
       "      <td>-88.089157</td>\n",
       "    </tr>\n",
       "    <tr>\n",
       "      <th>3</th>\n",
       "      <td>2011-08-29</td>\n",
       "      <td>6:57:28 PM</td>\n",
       "      <td>42.390637</td>\n",
       "      <td>-88.089158</td>\n",
       "    </tr>\n",
       "    <tr>\n",
       "      <th>4</th>\n",
       "      <td>2011-08-29</td>\n",
       "      <td>6:57:38 PM</td>\n",
       "      <td>42.390410</td>\n",
       "      <td>-88.088858</td>\n",
       "    </tr>\n",
       "  </tbody>\n",
       "</table>\n",
       "</div>"
      ],
      "text/plain": [
       "         Date        Time   Latitude  Longitude\n",
       "0  2011-08-29  6:56:58 PM  42.391623 -88.089163\n",
       "1  2011-08-29  6:57:08 PM  42.391348 -88.089163\n",
       "2  2011-08-29  6:57:18 PM  42.391022 -88.089157\n",
       "3  2011-08-29  6:57:28 PM  42.390637 -88.089158\n",
       "4  2011-08-29  6:57:38 PM  42.390410 -88.088858"
      ]
     },
     "execution_count": 63,
     "metadata": {},
     "output_type": "execute_result"
    }
   ],
   "source": [
    "spray.head()"
   ]
  },
  {
   "cell_type": "code",
   "execution_count": 57,
   "metadata": {
    "collapsed": true
   },
   "outputs": [
    {
     "data": {
      "text/plain": [
       "7:44:32 PM     541\n",
       "8:59:06 PM       5\n",
       "8:55:36 PM       5\n",
       "8:57:56 PM       5\n",
       "9:35:47 PM       5\n",
       "9:37:27 PM       5\n",
       "8:57:46 PM       5\n",
       "8:58:26 PM       5\n",
       "9:40:27 PM       5\n",
       "9:31:27 PM       5\n",
       "8:55:46 PM       5\n",
       "9:05:56 PM       5\n",
       "9:38:27 PM       5\n",
       "8:55:26 PM       5\n",
       "8:58:56 PM       5\n",
       "9:30:17 PM       4\n",
       "8:05:11 PM       4\n",
       "8:51:36 PM       4\n",
       "8:31:11 PM       4\n",
       "10:01:35 PM      4\n",
       "9:36:57 PM       4\n",
       "8:38:46 PM       4\n",
       "10:02:05 PM      4\n",
       "9:25:56 PM       4\n",
       "8:53:45 PM       4\n",
       "8:38:05 PM       4\n",
       "8:38:06 PM       4\n",
       "8:26:26 PM       4\n",
       "9:07:25 PM       4\n",
       "9:07:36 PM       4\n",
       "              ... \n",
       "9:40:46 PM       1\n",
       "11:35:08 PM      1\n",
       "9:57:51 PM       1\n",
       "10:19:13 PM      1\n",
       "9:40:06 PM       1\n",
       "9:05:12 PM       1\n",
       "8:44:51 PM       1\n",
       "8:29:53 PM       1\n",
       "9:43:14 PM       1\n",
       "11:49:31 PM      1\n",
       "10:58:06 PM      1\n",
       "11:15:01 PM      1\n",
       "8:49:48 PM       1\n",
       "8:52:59 PM       1\n",
       "11:56:31 PM      1\n",
       "8:08:45 PM       1\n",
       "7:58:01 PM       1\n",
       "9:32:00 PM       1\n",
       "9:03:02 PM       1\n",
       "7:48:35 PM       1\n",
       "8:34:38 PM       1\n",
       "9:26:59 PM       1\n",
       "8:07:43 PM       1\n",
       "8:39:21 PM       1\n",
       "9:08:12 PM       1\n",
       "10:41:18 PM      1\n",
       "11:04:11 PM      1\n",
       "9:04:02 PM       1\n",
       "9:53:36 PM       1\n",
       "10:11:14 PM      1\n",
       "Name: Time, dtype: int64"
      ]
     },
     "execution_count": 57,
     "metadata": {},
     "output_type": "execute_result"
    }
   ],
   "source": [
    "spray.Time.value_counts()"
   ]
  },
  {
   "cell_type": "code",
   "execution_count": 20,
   "metadata": {
    "collapsed": true
   },
   "outputs": [],
   "source": [
    "weather = pd.read_csv('./weather.csv')"
   ]
  },
  {
   "cell_type": "code",
   "execution_count": 5,
   "metadata": {
    "collapsed": false
   },
   "outputs": [],
   "source": [
    "sample_submission= pd.read_csv('./sampleSubmission.csv.zip')"
   ]
  },
  {
   "cell_type": "code",
   "execution_count": 38,
   "metadata": {
    "collapsed": false
   },
   "outputs": [
    {
     "data": {
      "text/plain": [
       "Id            0\n",
       "WnvPresent    0\n",
       "dtype: int64"
      ]
     },
     "execution_count": 38,
     "metadata": {},
     "output_type": "execute_result"
    }
   ],
   "source": [
    "sample_submission.isnull().sum()"
   ]
  },
  {
   "cell_type": "code",
   "execution_count": 16,
   "metadata": {
    "collapsed": false
   },
   "outputs": [],
   "source": [
    "import seaborn as sns\n",
    "import matplotlib as plt\n",
    "% matplotlib inline"
   ]
  },
  {
   "cell_type": "code",
   "execution_count": 17,
   "metadata": {
    "collapsed": false
   },
   "outputs": [
    {
     "ename": "AttributeError",
     "evalue": "'module' object has no attribute 'show'",
     "output_type": "error",
     "traceback": [
      "\u001b[0;31m---------------------------------------------------------------------------\u001b[0m",
      "\u001b[0;31mAttributeError\u001b[0m                            Traceback (most recent call last)",
      "\u001b[0;32m<ipython-input-17-e304ff7d622e>\u001b[0m in \u001b[0;36m<module>\u001b[0;34m()\u001b[0m\n\u001b[1;32m      1\u001b[0m \u001b[0msns\u001b[0m\u001b[0;34m.\u001b[0m\u001b[0mdistplot\u001b[0m\u001b[0;34m(\u001b[0m\u001b[0msample_submission\u001b[0m\u001b[0;34m[\u001b[0m\u001b[0;34m'WnvPresent'\u001b[0m\u001b[0;34m]\u001b[0m\u001b[0;34m,\u001b[0m \u001b[0mcolor\u001b[0m \u001b[0;34m=\u001b[0m\u001b[0;34m'red'\u001b[0m\u001b[0;34m)\u001b[0m\u001b[0;34m\u001b[0m\u001b[0m\n\u001b[0;32m----> 2\u001b[0;31m \u001b[0mplt\u001b[0m\u001b[0;34m.\u001b[0m\u001b[0mshow\u001b[0m\u001b[0;34m(\u001b[0m\u001b[0;34m)\u001b[0m\u001b[0;34m\u001b[0m\u001b[0m\n\u001b[0m",
      "\u001b[0;31mAttributeError\u001b[0m: 'module' object has no attribute 'show'"
     ]
    },
    {
     "data": {
      "image/png": "[encoded data removed]",
      "text/plain": [
       "<matplotlib.figure.Figure at 0x115ab0f50>"
      ]
     },
     "metadata": {},
     "output_type": "display_data"
    }
   ],
   "source": [
    "sns.distplot(sample_submission['WnvPresent'], color ='red')\n",
    "plt.show()"
   ]
  },
  {
   "cell_type": "code",
   "execution_count": 28,
   "metadata": {
    "collapsed": true
   },
   "outputs": [],
   "source": [
    "train= pd.read_csv('./train.csv')"
   ]
  },
  {
   "cell_type": "code",
   "execution_count": 30,
   "metadata": {
    "collapsed": false
   },
   "outputs": [],
   "source": [
    "test = pd.read_csv('./test.csv.zip')"
   ]
  },
  {
   "cell_type": "code",
   "execution_count": 37,
   "metadata": {
    "collapsed": true
   },
   "outputs": [
    {
     "data": {
      "text/plain": [
       "Id                        0\n",
       "Date                      0\n",
       "Address                   0\n",
       "Species                   0\n",
       "Block                     0\n",
       "Street                    0\n",
       "Trap                      0\n",
       "AddressNumberAndStreet    0\n",
       "Latitude                  0\n",
       "Longitude                 0\n",
       "AddressAccuracy           0\n",
       "dtype: int64"
      ]
     },
     "execution_count": 37,
     "metadata": {},
     "output_type": "execute_result"
    }
   ],
   "source": [
    "test.isnull().sum()"
   ]
  },
  {
   "cell_type": "code",
   "execution_count": 58,
   "metadata": {
    "collapsed": true
   },
   "outputs": [
    {
     "data": {
      "text/plain": [
       "0    9955\n",
       "1     551\n",
       "Name: WnvPresent, dtype: int64"
      ]
     },
     "execution_count": 58,
     "metadata": {},
     "output_type": "execute_result"
    }
   ],
   "source": [
    "train.WnvPresent.value_counts()"
   ]
  },
  {
   "cell_type": "code",
   "execution_count": 69,
   "metadata": {
    "collapsed": false
   },
   "outputs": [],
   "source": [
    "pbb = pd.concat([train, weather], names= 'Date')"
   ]
  },
  {
   "cell_type": "code",
   "execution_count": 70,
   "metadata": {
    "collapsed": true
   },
   "outputs": [
    {
     "data": {
      "text/html": [
       "<div>\n",
       "<table border=\"1\" class=\"dataframe\">\n",
       "  <thead>\n",
       "    <tr style=\"text-align: right;\">\n",
       "      <th></th>\n",
       "      <th>Address</th>\n",
       "      <th>AddressAccuracy</th>\n",
       "      <th>AddressNumberAndStreet</th>\n",
       "      <th>AvgSpeed</th>\n",
       "      <th>Block</th>\n",
       "      <th>CodeSum</th>\n",
       "      <th>Cool</th>\n",
       "      <th>Date</th>\n",
       "      <th>Depart</th>\n",
       "      <th>Depth</th>\n",
       "      <th>...</th>\n",
       "      <th>Street</th>\n",
       "      <th>Sunrise</th>\n",
       "      <th>Sunset</th>\n",
       "      <th>Tavg</th>\n",
       "      <th>Tmax</th>\n",
       "      <th>Tmin</th>\n",
       "      <th>Trap</th>\n",
       "      <th>Water1</th>\n",
       "      <th>WetBulb</th>\n",
       "      <th>WnvPresent</th>\n",
       "    </tr>\n",
       "  </thead>\n",
       "  <tbody>\n",
       "    <tr>\n",
       "      <th>0</th>\n",
       "      <td>4100 North Oak Park Avenue, Chicago, IL 60634,...</td>\n",
       "      <td>9.0</td>\n",
       "      <td>4100  N OAK PARK AVE, Chicago, IL</td>\n",
       "      <td>NaN</td>\n",
       "      <td>41.0</td>\n",
       "      <td>NaN</td>\n",
       "      <td>NaN</td>\n",
       "      <td>2007-05-29</td>\n",
       "      <td>NaN</td>\n",
       "      <td>NaN</td>\n",
       "      <td>...</td>\n",
       "      <td>N OAK PARK AVE</td>\n",
       "      <td>NaN</td>\n",
       "      <td>NaN</td>\n",
       "      <td>NaN</td>\n",
       "      <td>NaN</td>\n",
       "      <td>NaN</td>\n",
       "      <td>T002</td>\n",
       "      <td>NaN</td>\n",
       "      <td>NaN</td>\n",
       "      <td>0.0</td>\n",
       "    </tr>\n",
       "    <tr>\n",
       "      <th>1</th>\n",
       "      <td>4100 North Oak Park Avenue, Chicago, IL 60634,...</td>\n",
       "      <td>9.0</td>\n",
       "      <td>4100  N OAK PARK AVE, Chicago, IL</td>\n",
       "      <td>NaN</td>\n",
       "      <td>41.0</td>\n",
       "      <td>NaN</td>\n",
       "      <td>NaN</td>\n",
       "      <td>2007-05-29</td>\n",
       "      <td>NaN</td>\n",
       "      <td>NaN</td>\n",
       "      <td>...</td>\n",
       "      <td>N OAK PARK AVE</td>\n",
       "      <td>NaN</td>\n",
       "      <td>NaN</td>\n",
       "      <td>NaN</td>\n",
       "      <td>NaN</td>\n",
       "      <td>NaN</td>\n",
       "      <td>T002</td>\n",
       "      <td>NaN</td>\n",
       "      <td>NaN</td>\n",
       "      <td>0.0</td>\n",
       "    </tr>\n",
       "    <tr>\n",
       "      <th>2</th>\n",
       "      <td>6200 North Mandell Avenue, Chicago, IL 60646, USA</td>\n",
       "      <td>9.0</td>\n",
       "      <td>6200  N MANDELL AVE, Chicago, IL</td>\n",
       "      <td>NaN</td>\n",
       "      <td>62.0</td>\n",
       "      <td>NaN</td>\n",
       "      <td>NaN</td>\n",
       "      <td>2007-05-29</td>\n",
       "      <td>NaN</td>\n",
       "      <td>NaN</td>\n",
       "      <td>...</td>\n",
       "      <td>N MANDELL AVE</td>\n",
       "      <td>NaN</td>\n",
       "      <td>NaN</td>\n",
       "      <td>NaN</td>\n",
       "      <td>NaN</td>\n",
       "      <td>NaN</td>\n",
       "      <td>T007</td>\n",
       "      <td>NaN</td>\n",
       "      <td>NaN</td>\n",
       "      <td>0.0</td>\n",
       "    </tr>\n",
       "    <tr>\n",
       "      <th>3</th>\n",
       "      <td>7900 West Foster Avenue, Chicago, IL 60656, USA</td>\n",
       "      <td>8.0</td>\n",
       "      <td>7900  W FOSTER AVE, Chicago, IL</td>\n",
       "      <td>NaN</td>\n",
       "      <td>79.0</td>\n",
       "      <td>NaN</td>\n",
       "      <td>NaN</td>\n",
       "      <td>2007-05-29</td>\n",
       "      <td>NaN</td>\n",
       "      <td>NaN</td>\n",
       "      <td>...</td>\n",
       "      <td>W FOSTER AVE</td>\n",
       "      <td>NaN</td>\n",
       "      <td>NaN</td>\n",
       "      <td>NaN</td>\n",
       "      <td>NaN</td>\n",
       "      <td>NaN</td>\n",
       "      <td>T015</td>\n",
       "      <td>NaN</td>\n",
       "      <td>NaN</td>\n",
       "      <td>0.0</td>\n",
       "    </tr>\n",
       "    <tr>\n",
       "      <th>4</th>\n",
       "      <td>7900 West Foster Avenue, Chicago, IL 60656, USA</td>\n",
       "      <td>8.0</td>\n",
       "      <td>7900  W FOSTER AVE, Chicago, IL</td>\n",
       "      <td>NaN</td>\n",
       "      <td>79.0</td>\n",
       "      <td>NaN</td>\n",
       "      <td>NaN</td>\n",
       "      <td>2007-05-29</td>\n",
       "      <td>NaN</td>\n",
       "      <td>NaN</td>\n",
       "      <td>...</td>\n",
       "      <td>W FOSTER AVE</td>\n",
       "      <td>NaN</td>\n",
       "      <td>NaN</td>\n",
       "      <td>NaN</td>\n",
       "      <td>NaN</td>\n",
       "      <td>NaN</td>\n",
       "      <td>T015</td>\n",
       "      <td>NaN</td>\n",
       "      <td>NaN</td>\n",
       "      <td>0.0</td>\n",
       "    </tr>\n",
       "  </tbody>\n",
       "</table>\n",
       "<p>5 rows × 33 columns</p>\n",
       "</div>"
      ],
      "text/plain": [
       "                                             Address  AddressAccuracy  \\\n",
       "0  4100 North Oak Park Avenue, Chicago, IL 60634,...              9.0   \n",
       "1  4100 North Oak Park Avenue, Chicago, IL 60634,...              9.0   \n",
       "2  6200 North Mandell Avenue, Chicago, IL 60646, USA              9.0   \n",
       "3    7900 West Foster Avenue, Chicago, IL 60656, USA              8.0   \n",
       "4    7900 West Foster Avenue, Chicago, IL 60656, USA              8.0   \n",
       "\n",
       "              AddressNumberAndStreet AvgSpeed  Block CodeSum Cool        Date  \\\n",
       "0  4100  N OAK PARK AVE, Chicago, IL      NaN   41.0     NaN  NaN  2007-05-29   \n",
       "1  4100  N OAK PARK AVE, Chicago, IL      NaN   41.0     NaN  NaN  2007-05-29   \n",
       "2   6200  N MANDELL AVE, Chicago, IL      NaN   62.0     NaN  NaN  2007-05-29   \n",
       "3    7900  W FOSTER AVE, Chicago, IL      NaN   79.0     NaN  NaN  2007-05-29   \n",
       "4    7900  W FOSTER AVE, Chicago, IL      NaN   79.0     NaN  NaN  2007-05-29   \n",
       "\n",
       "  Depart Depth    ...               Street Sunrise  Sunset  Tavg  Tmax Tmin  \\\n",
       "0    NaN   NaN    ...       N OAK PARK AVE     NaN     NaN   NaN   NaN  NaN   \n",
       "1    NaN   NaN    ...       N OAK PARK AVE     NaN     NaN   NaN   NaN  NaN   \n",
       "2    NaN   NaN    ...        N MANDELL AVE     NaN     NaN   NaN   NaN  NaN   \n",
       "3    NaN   NaN    ...         W FOSTER AVE     NaN     NaN   NaN   NaN  NaN   \n",
       "4    NaN   NaN    ...         W FOSTER AVE     NaN     NaN   NaN   NaN  NaN   \n",
       "\n",
       "   Trap  Water1 WetBulb WnvPresent  \n",
       "0  T002     NaN     NaN        0.0  \n",
       "1  T002     NaN     NaN        0.0  \n",
       "2  T007     NaN     NaN        0.0  \n",
       "3  T015     NaN     NaN        0.0  \n",
       "4  T015     NaN     NaN        0.0  \n",
       "\n",
       "[5 rows x 33 columns]"
      ]
     },
     "execution_count": 70,
     "metadata": {},
     "output_type": "execute_result"
    }
   ],
   "source": [
    "pbb.head()"
   ]
  },
  {
   "cell_type": "code",
   "execution_count": 72,
   "metadata": {
    "collapsed": false
   },
   "outputs": [
    {
     "data": {
      "text/html": [
       "<div>\n",
       "<table border=\"1\" class=\"dataframe\">\n",
       "  <thead>\n",
       "    <tr style=\"text-align: right;\">\n",
       "      <th></th>\n",
       "      <th>Date</th>\n",
       "      <th>Time</th>\n",
       "      <th>Latitude</th>\n",
       "      <th>Longitude</th>\n",
       "    </tr>\n",
       "  </thead>\n",
       "  <tbody>\n",
       "    <tr>\n",
       "      <th>0</th>\n",
       "      <td>2011-08-29</td>\n",
       "      <td>6:56:58 PM</td>\n",
       "      <td>42.391623</td>\n",
       "      <td>-88.089163</td>\n",
       "    </tr>\n",
       "  </tbody>\n",
       "</table>\n",
       "</div>"
      ],
      "text/plain": [
       "         Date        Time   Latitude  Longitude\n",
       "0  2011-08-29  6:56:58 PM  42.391623 -88.089163"
      ]
     },
     "execution_count": 72,
     "metadata": {},
     "output_type": "execute_result"
    }
   ],
   "source": [
    "spray.head(1)"
   ]
  },
  {
   "cell_type": "code",
   "execution_count": 73,
   "metadata": {
    "collapsed": false
   },
   "outputs": [
    {
     "data": {
      "text/html": [
       "<div>\n",
       "<table border=\"1\" class=\"dataframe\">\n",
       "  <thead>\n",
       "    <tr style=\"text-align: right;\">\n",
       "      <th></th>\n",
       "      <th>Date</th>\n",
       "      <th>Address</th>\n",
       "      <th>Species</th>\n",
       "      <th>Block</th>\n",
       "      <th>Street</th>\n",
       "      <th>Trap</th>\n",
       "      <th>AddressNumberAndStreet</th>\n",
       "      <th>Latitude</th>\n",
       "      <th>Longitude</th>\n",
       "      <th>AddressAccuracy</th>\n",
       "      <th>NumMosquitos</th>\n",
       "      <th>WnvPresent</th>\n",
       "    </tr>\n",
       "  </thead>\n",
       "  <tbody>\n",
       "    <tr>\n",
       "      <th>0</th>\n",
       "      <td>2007-05-29</td>\n",
       "      <td>4100 North Oak Park Avenue, Chicago, IL 60634,...</td>\n",
       "      <td>CULEX PIPIENS/RESTUANS</td>\n",
       "      <td>41</td>\n",
       "      <td>N OAK PARK AVE</td>\n",
       "      <td>T002</td>\n",
       "      <td>4100  N OAK PARK AVE, Chicago, IL</td>\n",
       "      <td>41.95469</td>\n",
       "      <td>-87.800991</td>\n",
       "      <td>9</td>\n",
       "      <td>1</td>\n",
       "      <td>0</td>\n",
       "    </tr>\n",
       "  </tbody>\n",
       "</table>\n",
       "</div>"
      ],
      "text/plain": [
       "         Date                                            Address  \\\n",
       "0  2007-05-29  4100 North Oak Park Avenue, Chicago, IL 60634,...   \n",
       "\n",
       "                  Species  Block           Street  Trap  \\\n",
       "0  CULEX PIPIENS/RESTUANS     41   N OAK PARK AVE  T002   \n",
       "\n",
       "              AddressNumberAndStreet  Latitude  Longitude  AddressAccuracy  \\\n",
       "0  4100  N OAK PARK AVE, Chicago, IL  41.95469 -87.800991                9   \n",
       "\n",
       "   NumMosquitos  WnvPresent  \n",
       "0             1           0  "
      ]
     },
     "execution_count": 73,
     "metadata": {},
     "output_type": "execute_result"
    }
   ],
   "source": [
    "train.head(1)"
   ]
  },
  {
   "cell_type": "code",
   "execution_count": 134,
   "metadata": {
    "collapsed": false
   },
   "outputs": [],
   "source": [
    "f = train.merge(spray, left_on='Date', right_on= 'Date')"
   ]
  },
  {
   "cell_type": "code",
   "execution_count": 149,
   "metadata": {
    "collapsed": false
   },
   "outputs": [
    {
     "data": {
      "text/html": [
       "<div>\n",
       "<table border=\"1\" class=\"dataframe\">\n",
       "  <thead>\n",
       "    <tr style=\"text-align: right;\">\n",
       "      <th></th>\n",
       "      <th>Date</th>\n",
       "      <th>Time</th>\n",
       "      <th>Latitude</th>\n",
       "      <th>Longitude</th>\n",
       "    </tr>\n",
       "  </thead>\n",
       "  <tbody>\n",
       "    <tr>\n",
       "      <th>0</th>\n",
       "      <td>2011-08-29</td>\n",
       "      <td>6:56:58 PM</td>\n",
       "      <td>42.391623</td>\n",
       "      <td>-88.089163</td>\n",
       "    </tr>\n",
       "  </tbody>\n",
       "</table>\n",
       "</div>"
      ],
      "text/plain": [
       "         Date        Time   Latitude  Longitude\n",
       "0  2011-08-29  6:56:58 PM  42.391623 -88.089163"
      ]
     },
     "execution_count": 149,
     "metadata": {},
     "output_type": "execute_result"
    }
   ],
   "source": [
    "spray.head(1)"
   ]
  },
  {
   "cell_type": "code",
   "execution_count": 150,
   "metadata": {
    "collapsed": false
   },
   "outputs": [
    {
     "data": {
      "text/html": [
       "<div>\n",
       "<table border=\"1\" class=\"dataframe\">\n",
       "  <thead>\n",
       "    <tr style=\"text-align: right;\">\n",
       "      <th></th>\n",
       "      <th>Date</th>\n",
       "      <th>Time</th>\n",
       "      <th>Latitude</th>\n",
       "      <th>Longitude</th>\n",
       "    </tr>\n",
       "  </thead>\n",
       "  <tbody>\n",
       "    <tr>\n",
       "      <th>14834</th>\n",
       "      <td>2013-09-05</td>\n",
       "      <td>8:35:41 PM</td>\n",
       "      <td>42.004805</td>\n",
       "      <td>-87.81746</td>\n",
       "    </tr>\n",
       "  </tbody>\n",
       "</table>\n",
       "</div>"
      ],
      "text/plain": [
       "             Date        Time   Latitude  Longitude\n",
       "14834  2013-09-05  8:35:41 PM  42.004805  -87.81746"
      ]
     },
     "execution_count": 150,
     "metadata": {},
     "output_type": "execute_result"
    }
   ],
   "source": [
    "spray.tail(1)"
   ]
  },
  {
   "cell_type": "code",
   "execution_count": 81,
   "metadata": {
    "collapsed": true
   },
   "outputs": [],
   "source": [
    "# from geopy.distance import vincenty\n",
    "# import geopy\n",
    "# from geopy.distance import VincentyDistance"
   ]
  },
  {
   "cell_type": "code",
   "execution_count": 131,
   "metadata": {
    "collapsed": false
   },
   "outputs": [],
   "source": [
    "# lat_1 = spray['Latitude'][0]\n",
    "# long_1 = spray['Longitude'][0]\n",
    "# origin = geopy.Point(lat_1, long_1)"
   ]
  },
  {
   "cell_type": "code",
   "execution_count": 125,
   "metadata": {
    "collapsed": false
   },
   "outputs": [],
   "source": [
    "# destination = VincentyDistance(kilometers=0.80468).miles"
   ]
  },
  {
   "cell_type": "code",
   "execution_count": 156,
   "metadata": {
    "collapsed": true
   },
   "outputs": [],
   "source": [
    "import math"
   ]
  },
  {
   "cell_type": "code",
   "execution_count": null,
   "metadata": {
    "collapsed": true
   },
   "outputs": [],
   "source": [
    "class BoundingBox(object): # found on stack overflow  http://stackoverflow.com/questions/1648917/given-a-latitude-and-longitude-and-distance-i-want-to-find-a-bounding-box\n",
    "    def __init__(self, *args, **kwargs):\n",
    "        self.lat_min = None\n",
    "        self.lon_min = None\n",
    "        self.lat_max = None\n",
    "        self.lon_max = None"
   ]
  },
  {
   "cell_type": "code",
   "execution_count": 186,
   "metadata": {
    "collapsed": false
   },
   "outputs": [],
   "source": [
    " def get_bounding_box(latitude_in_degrees, longitude_in_degrees, half_side_in_miles):\n",
    "    assert half_side_in_miles > 0\n",
    "    assert latitude_in_degrees >= -90.0 and latitude_in_degrees  <= 90.0\n",
    "    assert longitude_in_degrees >= -180.0 and longitude_in_degrees <= 180.0\n",
    "\n",
    "    half_side_in_km = half_side_in_miles * 1.609344\n",
    "    lat = math.radians(latitude_in_degrees)\n",
    "    lon = math.radians(longitude_in_degrees)\n",
    "\n",
    "    radius  = 6371\n",
    "    # Radius of the parallel at given latitude\n",
    "    parallel_radius = radius*math.cos(lat)\n",
    "\n",
    "    lat_min = lat - half_side_in_km/radius\n",
    "    lat_max = lat + half_side_in_km/radius\n",
    "    lon_min = lon - half_side_in_km/parallel_radius\n",
    "    lon_max = lon + half_side_in_km/parallel_radius\n",
    "    rad2deg = math.degrees\n",
    "\n",
    "    box = []\n",
    "    box.append(rad2deg(lat_min))\n",
    "    box.append(rad2deg(lon_min))\n",
    "    box.append(rad2deg(lat_max))\n",
    "    box.append(rad2deg(lon_max))\n",
    "    return box"
   ]
  },
  {
   "cell_type": "code",
   "execution_count": 187,
   "metadata": {
    "collapsed": false
   },
   "outputs": [
    {
     "data": {
      "text/plain": [
       "[41.99756841084722, -87.8271985266114, 42.01204158915278, -87.80772147338861]"
      ]
     },
     "execution_count": 187,
     "metadata": {},
     "output_type": "execute_result"
    }
   ],
   "source": [
    "get_bounding_box(42.004805,-87.81746, 0.5)"
   ]
  },
  {
   "cell_type": "code",
   "execution_count": 202,
   "metadata": {
    "collapsed": false
   },
   "outputs": [
    {
     "data": {
      "text/plain": [
       "array(['T002', 'T007', 'T015', 'T045', 'T046', 'T048', 'T049', 'T050',\n",
       "       'T054', 'T086', 'T091', 'T094', 'T096', 'T129', 'T143', 'T148',\n",
       "       'T153', 'T159', 'T009', 'T011', 'T016', 'T019', 'T025', 'T028',\n",
       "       'T031', 'T033', 'T089', 'T090', 'T092', 'T135', 'T141', 'T142',\n",
       "       'T145', 'T146', 'T147', 'T149', 'T150', 'T151', 'T152', 'T154',\n",
       "       'T158', 'T162', 'T218', 'T220', 'T001', 'T003', 'T006', 'T008',\n",
       "       'T012', 'T034', 'T037', 'T040', 'T043', 'T047', 'T051', 'T085',\n",
       "       'T088', 'T161', 'T219', 'T013', 'T014', 'T018', 'T030', 'T084',\n",
       "       'T144', 'T160', 'T005', 'T017', 'T044', 'T095', 'T004', 'T035',\n",
       "       'T036', 'T039', 'T060', 'T061', 'T062', 'T065', 'T066', 'T067',\n",
       "       'T069', 'T070', 'T071', 'T073', 'T074', 'T075', 'T076', 'T077',\n",
       "       'T079', 'T080', 'T081', 'T082', 'T083', 'T114', 'T155', 'T063',\n",
       "       'T115', 'T138', 'T200', 'T206', 'T209', 'T212', 'T215', 'T107',\n",
       "       'T128', 'T072', 'T078', 'T097', 'T099', 'T100', 'T102', 'T103',\n",
       "       'T027', 'T156', 'T157', 'T221', 'T900', 'T903', 'T222', 'T223',\n",
       "       'T225', 'T227', 'T224', 'T226', 'T229', 'T230', 'T228', 'T232',\n",
       "       'T231', 'T235', 'T233', 'T236', 'T237', 'T238', 'T094B', 'T054C'], dtype=object)"
      ]
     },
     "execution_count": 202,
     "metadata": {},
     "output_type": "execute_result"
    }
   ],
   "source": [
    "train.Trap.unique()"
   ]
  },
  {
   "cell_type": "code",
   "execution_count": null,
   "metadata": {
    "collapsed": true
   },
   "outputs": [],
   "source": []
  }
 ],
 "metadata": {
  "kernelspec": {
   "display_name": "Python 2",
   "language": "python",
   "name": "python2"
  },
  "language_info": {
   "codemirror_mode": {
    "name": "ipython",
    "version": 2
   },
   "file_extension": ".py",
   "mimetype": "text/x-python",
   "name": "python",
   "nbconvert_exporter": "python",
   "pygments_lexer": "ipython2",
   "version": "2.7.13"
  }
 },
 "nbformat": 4,
 "nbformat_minor": 2
}
